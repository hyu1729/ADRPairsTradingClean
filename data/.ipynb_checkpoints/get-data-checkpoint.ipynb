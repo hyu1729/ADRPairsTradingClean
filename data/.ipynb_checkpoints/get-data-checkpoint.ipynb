{
 "cells": [
  {
   "cell_type": "code",
   "execution_count": 1,
   "metadata": {},
   "outputs": [],
   "source": [
    "# import libraries\n",
    "import pandas_datareader as pdr\n",
    "import pandas as pd\n",
    "from datetime import datetime"
   ]
  },
  {
   "cell_type": "code",
   "execution_count": 2,
   "metadata": {},
   "outputs": [],
   "source": [
    "# read csv list of all adrs\n",
    "df = pd.read_csv(\"adrs.csv\")"
   ]
  },
  {
   "cell_type": "code",
   "execution_count": 3,
   "metadata": {},
   "outputs": [],
   "source": [
    "# drop unnecessary columns\n",
    "df = df.drop(columns=[\"GICS Sector\", \"P/E\", \"P/S\", \"P/B\", \"Current yield\", \"Avg Volume\", \"Action\"])"
   ]
  },
  {
   "cell_type": "code",
   "execution_count": 4,
   "metadata": {},
   "outputs": [],
   "source": [
    "# drop non asian countries (or asian countries with <= 2 adr)\n",
    "df = df[df.Country != 'United Kingdom']\n",
    "df = df[df.Country != 'Brazil']\n",
    "df = df[df.Country != 'Israel']\n",
    "df = df[df.Country != 'France']\n",
    "df = df[df.Country != 'Argentina']\n",
    "df = df[df.Country != 'The Netherlands']\n",
    "df = df[df.Country != 'Switzerland']\n",
    "df = df[df.Country != 'Germany']\n",
    "df = df[df.Country != 'India']\n",
    "df = df[df.Country != 'Belgium']\n",
    "df = df[df.Country != 'Denmark']\n",
    "df = df[df.Country != 'Australia']\n",
    "df = df[df.Country != 'Norway']\n",
    "df = df[df.Country != 'Spain']\n",
    "df = df[df.Country != 'Italy']\n",
    "df = df[df.Country != 'Sweden']\n",
    "df = df[df.Country != 'Ireland']\n",
    "df = df[df.Country != 'Luxembourg']\n",
    "df = df[df.Country != 'Colombia']\n",
    "df = df[df.Country != 'Finland']\n",
    "df = df[df.Country != 'Mexico']\n",
    "df = df[df.Country != 'Chile']\n",
    "df = df[df.Country != 'South Africa']\n",
    "df = df[df.Country != 'Turkey']\n",
    "df = df[df.Country != 'Peru']\n",
    "df = df[df.Country != 'Cayman Islands']\n",
    "df = df[df.Country != 'Philippines']"
   ]
  },
  {
   "cell_type": "code",
   "execution_count": 5,
   "metadata": {},
   "outputs": [],
   "source": [
    "# remove adrs whose underlying stock symbol is not available\n",
    "df = df[df['Underlying Symbol'] != 'PRIVATE']"
   ]
  },
  {
   "cell_type": "code",
   "execution_count": 6,
   "metadata": {},
   "outputs": [
    {
     "data": {
      "text/html": [
       "<div>\n",
       "<style scoped>\n",
       "    .dataframe tbody tr th:only-of-type {\n",
       "        vertical-align: middle;\n",
       "    }\n",
       "\n",
       "    .dataframe tbody tr th {\n",
       "        vertical-align: top;\n",
       "    }\n",
       "\n",
       "    .dataframe thead th {\n",
       "        text-align: right;\n",
       "    }\n",
       "</style>\n",
       "<table border=\"1\" class=\"dataframe\">\n",
       "  <thead>\n",
       "    <tr style=\"text-align: right;\">\n",
       "      <th></th>\n",
       "      <th>Symbol</th>\n",
       "      <th>Name</th>\n",
       "      <th>Country</th>\n",
       "      <th>Underlying Symbol</th>\n",
       "      <th>Underlying Exchange</th>\n",
       "      <th>Market cap</th>\n",
       "    </tr>\n",
       "  </thead>\n",
       "  <tbody>\n",
       "    <tr>\n",
       "      <th>0</th>\n",
       "      <td>TSM</td>\n",
       "      <td>Taiwan Semiconductor Manufacturing Co Ltd ADRs</td>\n",
       "      <td>Taiwan</td>\n",
       "      <td>TT:2330</td>\n",
       "      <td>Taiwan Stock Exchange</td>\n",
       "      <td>$647,222,296,282</td>\n",
       "    </tr>\n",
       "    <tr>\n",
       "      <th>1</th>\n",
       "      <td>TM</td>\n",
       "      <td>Toyota Motor Corp ADRs</td>\n",
       "      <td>Japan</td>\n",
       "      <td>JT:7203</td>\n",
       "      <td>Tokyo Stock Exchange</td>\n",
       "      <td>$251,511,846,683</td>\n",
       "    </tr>\n",
       "    <tr>\n",
       "      <th>2</th>\n",
       "      <td>SONY</td>\n",
       "      <td>Sony Group Corporation ADRs</td>\n",
       "      <td>Japan</td>\n",
       "      <td>JT:6758</td>\n",
       "      <td>Tokyo Stock Exchange</td>\n",
       "      <td>$134,756,741,338</td>\n",
       "    </tr>\n",
       "    <tr>\n",
       "      <th>3</th>\n",
       "      <td>SNE</td>\n",
       "      <td>Sony Corp ADRs</td>\n",
       "      <td>Japan</td>\n",
       "      <td>JT:6758</td>\n",
       "      <td>Tokyo Stock Exchange</td>\n",
       "      <td>$133,684,841,374</td>\n",
       "    </tr>\n",
       "    <tr>\n",
       "      <th>4</th>\n",
       "      <td>MUFG</td>\n",
       "      <td>Mitsubishi UFJ Financial Group Inc. ADRs</td>\n",
       "      <td>Japan</td>\n",
       "      <td>JT:8306</td>\n",
       "      <td>Tokyo Stock Exchange</td>\n",
       "      <td>$74,293,513,306</td>\n",
       "    </tr>\n",
       "  </tbody>\n",
       "</table>\n",
       "</div>"
      ],
      "text/plain": [
       "  Symbol                                            Name Country  \\\n",
       "0    TSM  Taiwan Semiconductor Manufacturing Co Ltd ADRs  Taiwan   \n",
       "1     TM                          Toyota Motor Corp ADRs   Japan   \n",
       "2   SONY                     Sony Group Corporation ADRs   Japan   \n",
       "3    SNE                                  Sony Corp ADRs   Japan   \n",
       "4   MUFG        Mitsubishi UFJ Financial Group Inc. ADRs   Japan   \n",
       "\n",
       "  Underlying Symbol    Underlying Exchange        Market cap  \n",
       "0           TT:2330  Taiwan Stock Exchange  $647,222,296,282  \n",
       "1           JT:7203   Tokyo Stock Exchange  $251,511,846,683  \n",
       "2           JT:6758   Tokyo Stock Exchange  $134,756,741,338  \n",
       "3           JT:6758   Tokyo Stock Exchange  $133,684,841,374  \n",
       "4           JT:8306   Tokyo Stock Exchange   $74,293,513,306  "
      ]
     },
     "execution_count": 6,
     "metadata": {},
     "output_type": "execute_result"
    }
   ],
   "source": [
    "df.reset_index().drop(columns='index').head()"
   ]
  },
  {
   "cell_type": "code",
   "execution_count": 7,
   "metadata": {},
   "outputs": [],
   "source": [
    "# All ADR tickers and underlying stock tickers\n",
    "tickers = ['TSM', 'TM', 'SONY', 'MUFG', 'TAK', 'HMC', 'SMFG', 'MFG','BGNE', 'CAJ', 'CHT', 'PKX', 'TLK', 'UMC',\n",
    "           'IX', 'KB', 'SKM','ASX', 'NMR', 'SHG', 'LFC', 'SNP', 'KEP', 'MBT', 'PTR', 'LPL', 'WF', 'KT', 'ZNH', \n",
    "           'CEA', 'ACH', 'HNP', 'IMOS', 'SHI',\n",
    "           '2330.TW', '7203.T', '6758.T', '8306.T', '4502.T', '7267.T','8316.T', '8411.T', '6160.HK', \n",
    "           '7751.T', '2412.TW', '005490.KS', 'TLKM.JK', '2303.TW', '8591.T', '105560.KS', '017670.KS',\n",
    "           '3711.TW', '8604.T', '055550.KS', '2628.HK', '0386.HK', '015760.KS', 'MTSS.ME', '0857.HK', \n",
    "           '034220.KS', '316140.KS','030200.KS', '1055.HK', '0670.HK','2600.HK', '0902.HK', '8150.TW','0338.HK']"
   ]
  },
  {
   "cell_type": "code",
   "execution_count": 8,
   "metadata": {},
   "outputs": [
    {
     "name": "stdout",
     "output_type": "stream",
     "text": [
      "SNE\n",
      "ZH\n",
      "HCM\n",
      "MSC\n",
      "MTL\n",
      "TLC\n"
     ]
    }
   ],
   "source": [
    "x = df['Symbol'].unique()\n",
    "for i in range(len(x)):\n",
    "    if x[i] not in tickers[:34]:\n",
    "        print(x[i]) \n",
    "        \n",
    "# NOTE: printed adr data not found so have not included in tickers list"
   ]
  },
  {
   "cell_type": "code",
   "execution_count": 9,
   "metadata": {},
   "outputs": [],
   "source": [
    "# fetch data and save as csv file\n",
    "for ticker in tickers:\n",
    "    df =  pdr.get_data_yahoo(symbols=ticker, start=datetime(2016, 1, 1), end=datetime(2021, 1, 1))\n",
    "    df.to_csv(ticker+'.csv') "
   ]
  }
 ],
 "metadata": {
  "kernelspec": {
   "display_name": "Python 3",
   "language": "python",
   "name": "python3"
  },
  "language_info": {
   "codemirror_mode": {
    "name": "ipython",
    "version": 3
   },
   "file_extension": ".py",
   "mimetype": "text/x-python",
   "name": "python",
   "nbconvert_exporter": "python",
   "pygments_lexer": "ipython3",
   "version": "3.8.5"
  }
 },
 "nbformat": 4,
 "nbformat_minor": 4
}
