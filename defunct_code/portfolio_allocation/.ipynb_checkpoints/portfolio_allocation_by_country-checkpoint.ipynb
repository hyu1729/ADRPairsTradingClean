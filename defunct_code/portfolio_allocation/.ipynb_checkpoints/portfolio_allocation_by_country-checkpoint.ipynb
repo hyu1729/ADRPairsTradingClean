{
 "cells": [
  {
   "cell_type": "code",
   "execution_count": 1,
   "metadata": {},
   "outputs": [],
   "source": [
    "import pandas as pd\n",
    "import numpy as np\n",
    "from os import listdir\n",
    "from os.path import isfile, join"
   ]
  },
  {
   "cell_type": "code",
   "execution_count": 2,
   "metadata": {},
   "outputs": [],
   "source": [
    "mypath = '../eric_jh_data/'\n",
    "countries = sorted(['Australia', 'Japan', 'China'])\n",
    "\n",
    "list_pairs = []\n",
    "for country in countries:\n",
    "    countrypath = mypath + country\n",
    "    adr_names =  [f for f in listdir(countrypath) if not isfile(join(countrypath, f))] #grab all adr names of the country\n",
    "    for adr in sorted(adr_names):\n",
    "        list_pairs.append((country, adr))"
   ]
  },
  {
   "cell_type": "code",
   "execution_count": 3,
   "metadata": {},
   "outputs": [],
   "source": [
    "with open('../logs/results1_sfx_all.txt') as f:\n",
    "    res = f.readlines()"
   ]
  },
  {
   "cell_type": "code",
   "execution_count": 4,
   "metadata": {},
   "outputs": [
    {
     "data": {
      "text/plain": [
       "Variant 1     15.393571\n",
       "Variant 2     22.361786\n",
       "Variant 3a    22.650357\n",
       "Variant 3b    23.336429\n",
       "dtype: float64"
      ]
     },
     "execution_count": 4,
     "metadata": {},
     "output_type": "execute_result"
    }
   ],
   "source": [
    "variant_df = pd.DataFrame()\n",
    "variants = [\"1\", \"2\", \"3a\", \"3b\"]\n",
    "for variant in variants:\n",
    "    variant_name = \"Variant \" + variant\n",
    "    variant_df[variant_name] = [float(x.split(\"Return: \")[1].split(\"%\")[0]) for x in res if variant_name in x]\n",
    "variant_df.mean()"
   ]
  },
  {
   "cell_type": "code",
   "execution_count": 5,
   "metadata": {},
   "outputs": [],
   "source": [
    "is_ret = {}\n",
    "is_hit = {}\n",
    "index = 0\n",
    "for (country, adr) in list_pairs:\n",
    "    is_ret[(country, adr)] = float(res[index*5 + 4].split(\"Return: \")[1].split(\"%\")[0]) \n",
    "    is_hit[(country, adr)] = float(res[index*5 + 4].split(\"Hit Ratio: \")[1].split(\"%\")[0])\n",
    "    index += 1"
   ]
  },
  {
   "cell_type": "code",
   "execution_count": 6,
   "metadata": {},
   "outputs": [
    {
     "data": {
      "text/html": [
       "<div>\n",
       "<style scoped>\n",
       "    .dataframe tbody tr th:only-of-type {\n",
       "        vertical-align: middle;\n",
       "    }\n",
       "\n",
       "    .dataframe tbody tr th {\n",
       "        vertical-align: top;\n",
       "    }\n",
       "\n",
       "    .dataframe thead th {\n",
       "        text-align: right;\n",
       "    }\n",
       "</style>\n",
       "<table border=\"1\" class=\"dataframe\">\n",
       "  <thead>\n",
       "    <tr style=\"text-align: right;\">\n",
       "      <th></th>\n",
       "      <th>country</th>\n",
       "      <th>adr</th>\n",
       "      <th>is_ret</th>\n",
       "      <th>hit_ratio</th>\n",
       "    </tr>\n",
       "  </thead>\n",
       "  <tbody>\n",
       "    <tr>\n",
       "      <th>24</th>\n",
       "      <td>Japan</td>\n",
       "      <td>SMFG_8316</td>\n",
       "      <td>31.18</td>\n",
       "      <td>59.70</td>\n",
       "    </tr>\n",
       "    <tr>\n",
       "      <th>20</th>\n",
       "      <td>Japan</td>\n",
       "      <td>IX_8591</td>\n",
       "      <td>27.56</td>\n",
       "      <td>56.90</td>\n",
       "    </tr>\n",
       "    <tr>\n",
       "      <th>27</th>\n",
       "      <td>Japan</td>\n",
       "      <td>TM_7203</td>\n",
       "      <td>20.46</td>\n",
       "      <td>68.97</td>\n",
       "    </tr>\n",
       "    <tr>\n",
       "      <th>21</th>\n",
       "      <td>Japan</td>\n",
       "      <td>MFG_8411</td>\n",
       "      <td>15.92</td>\n",
       "      <td>60.71</td>\n",
       "    </tr>\n",
       "    <tr>\n",
       "      <th>10</th>\n",
       "      <td>China</td>\n",
       "      <td>BGNE_6160</td>\n",
       "      <td>78.06</td>\n",
       "      <td>74.42</td>\n",
       "    </tr>\n",
       "    <tr>\n",
       "      <th>16</th>\n",
       "      <td>China</td>\n",
       "      <td>SNP_386</td>\n",
       "      <td>55.54</td>\n",
       "      <td>59.09</td>\n",
       "    </tr>\n",
       "    <tr>\n",
       "      <th>12</th>\n",
       "      <td>China</td>\n",
       "      <td>HNP_902</td>\n",
       "      <td>33.78</td>\n",
       "      <td>59.84</td>\n",
       "    </tr>\n",
       "    <tr>\n",
       "      <th>11</th>\n",
       "      <td>China</td>\n",
       "      <td>CEA_670</td>\n",
       "      <td>17.93</td>\n",
       "      <td>62.83</td>\n",
       "    </tr>\n",
       "    <tr>\n",
       "      <th>9</th>\n",
       "      <td>China</td>\n",
       "      <td>ACH_2600</td>\n",
       "      <td>14.02</td>\n",
       "      <td>61.02</td>\n",
       "    </tr>\n",
       "    <tr>\n",
       "      <th>6</th>\n",
       "      <td>Australia</td>\n",
       "      <td>MESO_MSB</td>\n",
       "      <td>84.63</td>\n",
       "      <td>80.23</td>\n",
       "    </tr>\n",
       "    <tr>\n",
       "      <th>2</th>\n",
       "      <td>Australia</td>\n",
       "      <td>IMMP_IMM</td>\n",
       "      <td>37.78</td>\n",
       "      <td>80.00</td>\n",
       "    </tr>\n",
       "    <tr>\n",
       "      <th>7</th>\n",
       "      <td>Australia</td>\n",
       "      <td>PLL_PLL</td>\n",
       "      <td>30.52</td>\n",
       "      <td>71.79</td>\n",
       "    </tr>\n",
       "    <tr>\n",
       "      <th>5</th>\n",
       "      <td>Australia</td>\n",
       "      <td>KZIA_KZA</td>\n",
       "      <td>15.66</td>\n",
       "      <td>79.10</td>\n",
       "    </tr>\n",
       "    <tr>\n",
       "      <th>3</th>\n",
       "      <td>Australia</td>\n",
       "      <td>IMRN_IMC</td>\n",
       "      <td>11.53</td>\n",
       "      <td>84.44</td>\n",
       "    </tr>\n",
       "  </tbody>\n",
       "</table>\n",
       "</div>"
      ],
      "text/plain": [
       "      country        adr  is_ret  hit_ratio\n",
       "24      Japan  SMFG_8316   31.18      59.70\n",
       "20      Japan    IX_8591   27.56      56.90\n",
       "27      Japan    TM_7203   20.46      68.97\n",
       "21      Japan   MFG_8411   15.92      60.71\n",
       "10      China  BGNE_6160   78.06      74.42\n",
       "16      China    SNP_386   55.54      59.09\n",
       "12      China    HNP_902   33.78      59.84\n",
       "11      China    CEA_670   17.93      62.83\n",
       "9       China   ACH_2600   14.02      61.02\n",
       "6   Australia   MESO_MSB   84.63      80.23\n",
       "2   Australia   IMMP_IMM   37.78      80.00\n",
       "7   Australia    PLL_PLL   30.52      71.79\n",
       "5   Australia   KZIA_KZA   15.66      79.10\n",
       "3   Australia   IMRN_IMC   11.53      84.44"
      ]
     },
     "execution_count": 6,
     "metadata": {},
     "output_type": "execute_result"
    }
   ],
   "source": [
    "final_df = pd.DataFrame()\n",
    "final_df[\"country\"] = [x[0] for x in list_pairs]\n",
    "final_df[\"adr\"] = [x[1] for x in list_pairs]\n",
    "final_df[\"is_ret\"] = is_ret.values()\n",
    "final_df[\"hit_ratio\"] = is_hit.values()\n",
    "final_df = final_df.sort_values([\"country\",\"is_ret\"], ascending = False)\n",
    "final_df[(final_df[\"hit_ratio\"] > 55) & (final_df[\"is_ret\"] > 10)]"
   ]
  }
 ],
 "metadata": {
  "kernelspec": {
   "display_name": "Python 3",
   "language": "python",
   "name": "python3"
  },
  "language_info": {
   "codemirror_mode": {
    "name": "ipython",
    "version": 3
   },
   "file_extension": ".py",
   "mimetype": "text/x-python",
   "name": "python",
   "nbconvert_exporter": "python",
   "pygments_lexer": "ipython3",
   "version": "3.7.6"
  }
 },
 "nbformat": 4,
 "nbformat_minor": 4
}
