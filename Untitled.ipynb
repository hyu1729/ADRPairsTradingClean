{
 "cells": [
  {
   "cell_type": "code",
   "execution_count": null,
   "metadata": {},
   "outputs": [],
   "source": [
    "                if enter_cond1:\n",
    "                    portfolio_value_before_entering = cash\n",
    "                    adr_volume = 0.2*(merged_df.loc[index-volume_lookback+1:index,:][\"adr_volume\"].mean()/row[\"adr_num_per_unit\"])\n",
    "                    stock_volume = 0.2*(merged_df.loc[index-volume_lookback+1:index,:][\"stock_volume\"].mean()/row[\"stock_num_per_unit\"])\n",
    "                    units = int(min((0.5*cash)/row['adr_close_per_unit'],\n",
    "                                    (0.5*cash)/(row['stock_close_per_unit']/merged_df.loc[index+1,'avg_bid_non_us_before']), \n",
    "                                    adr_volume, \n",
    "                                    stock_volume))\n",
    "                    adr_quantity = int(units*row[\"adr_num_per_unit\"])*short_multiplier\n",
    "                    stock_quantity = int(units*row[\"stock_num_per_unit\"])\n",
    "                    \n",
    "                    # Take portfolio value for each previous day when the Asian market opens\n",
    "                    temp_risk_lookback = min(risk_lookback, index)\n",
    "                    stock_temp = merged_df.loc[(index - temp_risk_lookback + 1):index].copy()\n",
    "                    stock_values = np.array((stock_temp[\"stock_open\"]/stock_temp[\"avg_ask_non_us_at\"])*stock_quantity) \n",
    "                    adr_values = np.array(merged_df.loc[(index - temp_risk_lookback):(index-1)][\"adr_close\"]*adr_quantity)\n",
    "                    sigma, var, max_drawdown_abs = get_risk_statistics(stock_values, adr_values, var_ci)\n",
    "                    if (var > portfolio_value_before_entering*var_limit or \n",
    "                        max_drawdown_abs > max_drawdown_limit*starting_cash or \n",
    "                        sigma > portfolio_value_before_entering*sigma_limit):\n",
    "                        frac = min((portfolio_value_before_entering*var_limit)/var, \n",
    "                                   (max_drawdown_limit*starting_cash)/max_drawdown_abs,\n",
    "                                  (portfolio_value_before_entering*sigma_limit)/sigma)\n",
    "                        units = int(frac*units)\n",
    "                        if units == 0:\n",
    "                            enter_cond1 = False\n",
    "                        adr_quantity = int(units*row[\"adr_num_per_unit\"])\n",
    "                        stock_quantity = int(units*row[\"stock_num_per_unit\"])\n",
    "                    if units != 0:\n",
    "                        adr_pos -= adr_quantity\n",
    "                        adr_px = row['adr_open']\n",
    "                        cash += adr_quantity*adr_px\n",
    "\n",
    "                        stock_pos += stock_quantity\n",
    "                        stock_px_fx = merged_df.loc[index+1,'stock_open']*long_multiplier\n",
    "                        stock_px = stock_px_fx/merged_df.loc[index+1,'avg_bid_non_us_at']\n",
    "                        cash -= stock_px*stock_quantity\n",
    "                        \n",
    "                        prev_cash, prev_adr_pos = cash, adr_pos\n",
    "                        holding_period = 0\n",
    "                        trade_type = 1\n",
    "                        \n",
    "                        trade_records.append(\"Opening positions:\\n\")\n",
    "                        # Times in EST\n",
    "                        trade_records.append(f\"We sold {adr_quantity} shares of ADR at the price of {adr_px} on {row['date']}\\n\")\n",
    "                        trade_records.append(f\"We bought {stock_quantity} shares of underlying stock at the price of {stock_px} USD ({stock_px_fx} foreign dollars) on {row['date']}\\n\")\n",
    "   \n"
   ]
  }
 ],
 "metadata": {
  "kernelspec": {
   "display_name": "Python 3",
   "language": "python",
   "name": "python3"
  },
  "language_info": {
   "codemirror_mode": {
    "name": "ipython",
    "version": 3
   },
   "file_extension": ".py",
   "mimetype": "text/x-python",
   "name": "python",
   "nbconvert_exporter": "python",
   "pygments_lexer": "ipython3",
   "version": "3.7.6"
  }
 },
 "nbformat": 4,
 "nbformat_minor": 4
}
