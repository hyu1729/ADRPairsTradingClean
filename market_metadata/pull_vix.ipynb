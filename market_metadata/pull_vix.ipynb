{
 "cells": [
  {
   "cell_type": "code",
   "execution_count": 68,
   "id": "wanted-montana",
   "metadata": {},
   "outputs": [
    {
     "data": {
      "text/plain": [
       "<IB connected to 127.0.0.1:7497 clientId=15>"
      ]
     },
     "execution_count": 68,
     "metadata": {},
     "output_type": "execute_result"
    }
   ],
   "source": [
    "from ib_insync import *\n",
    "util.startLoop()\n",
    "\n",
    "ib = IB()\n",
    "ib.connect('127.0.0.1', 7497, clientId=15)\n"
   ]
  },
  {
   "cell_type": "code",
   "execution_count": null,
   "id": "adjusted-subscription",
   "metadata": {},
   "outputs": [],
   "source": [
    "['NIKKEI225', 'ASX200','HSI']\n"
   ]
  },
  {
   "cell_type": "code",
   "execution_count": 105,
   "id": "mighty-lending",
   "metadata": {
    "scrolled": true
   },
   "outputs": [
    {
     "name": "stderr",
     "output_type": "stream",
     "text": [
      "Error 200, reqId 33: No security definition has been found for the request, contract: Index(symbol='EWH')\n",
      "Unknown contract: Index(symbol='EWH')\n"
     ]
    },
    {
     "data": {
      "text/plain": [
       "[]"
      ]
     },
     "execution_count": 105,
     "metadata": {},
     "output_type": "execute_result"
    }
   ],
   "source": [
    "nikkei = Index('EWH')\n",
    "ib.qualifyContracts(nikkei)"
   ]
  },
  {
   "cell_type": "code",
   "execution_count": 103,
   "id": "sophisticated-vatican",
   "metadata": {},
   "outputs": [
    {
     "data": {
      "text/plain": [
       "[Index(conId=1328298, symbol='HSI', exchange='HKFE', currency='HKD', localSymbol='HSI')]"
      ]
     },
     "execution_count": 103,
     "metadata": {},
     "output_type": "execute_result"
    }
   ],
   "source": [
    "hsi = Index('HSI')\n",
    "ib.qualifyContracts(hsi)"
   ]
  },
  {
   "cell_type": "code",
   "execution_count": 104,
   "id": "czech-brick",
   "metadata": {},
   "outputs": [
    {
     "name": "stderr",
     "output_type": "stream",
     "text": [
      "Error 162, reqId 32: Historical Market Data Service error message:No market data permissions for HKFE IND, contract: Index(conId=1328298, symbol='HSI', exchange='HKFE', currency='HKD', localSymbol='HSI')\n"
     ]
    }
   ],
   "source": [
    "bar = ib.reqHistoricalData(\n",
    "        hsi,\n",
    "        endDateTime = \"\",\n",
    "        durationStr='10 Y',\n",
    "        barSizeSetting= \"1 day\",\n",
    "        whatToShow='Trades',\n",
    "        useRTH=True,\n",
    "        formatDate=1)"
   ]
  },
  {
   "cell_type": "code",
   "execution_count": 69,
   "id": "confirmed-pantyhose",
   "metadata": {
    "scrolled": false
   },
   "outputs": [
    {
     "data": {
      "text/plain": [
       "[Index(conId=13455763, symbol='VIX', exchange='CBOE', currency='USD', localSymbol='VIX')]"
      ]
     },
     "execution_count": 69,
     "metadata": {},
     "output_type": "execute_result"
    }
   ],
   "source": [
    "vix = Index('VIX') \n",
    "ib.qualifyContracts(vix)\n"
   ]
  },
  {
   "cell_type": "code",
   "execution_count": 108,
   "id": "pointed-kitchen",
   "metadata": {},
   "outputs": [
    {
     "data": {
      "text/plain": [
       "[Contract(secType='STK', conId=253190534, symbol='EWJ', exchange='SMART', primaryExchange='ARCA', currency='USD', localSymbol='EWJ', tradingClass='EWJ')]"
      ]
     },
     "execution_count": 108,
     "metadata": {},
     "output_type": "execute_result"
    }
   ],
   "source": [
    "contract = Contract(symbol = 'EWJ', secType = 'STK', exchange = \"SMART\", currency = \"USD\")\n",
    "ib.qualifyContracts(contract)"
   ]
  },
  {
   "cell_type": "code",
   "execution_count": 92,
   "id": "institutional-search",
   "metadata": {},
   "outputs": [
    {
     "name": "stderr",
     "output_type": "stream",
     "text": [
      "Error 200, reqId 20: No security definition has been found for the request, contract: Contract(secType='FUT', symbol='NK225', exchange='SMART', currency='USD')\n",
      "Unknown contract: Contract(secType='FUT', symbol='NK225', exchange='SMART', currency='USD')\n"
     ]
    },
    {
     "data": {
      "text/plain": [
       "[]"
      ]
     },
     "execution_count": 92,
     "metadata": {},
     "output_type": "execute_result"
    }
   ],
   "source": [
    "contract = Contract(symbol = 'NK225', secType = 'FUT', exchange = \"SMART\", currency = \"USD\")\n",
    "ib.qualifyContracts(contract)"
   ]
  },
  {
   "cell_type": "code",
   "execution_count": 109,
   "id": "constitutional-prize",
   "metadata": {},
   "outputs": [],
   "source": [
    "bar = ib.reqHistoricalData(\n",
    "        contract,\n",
    "        endDateTime = \"\",\n",
    "        durationStr='10 Y',\n",
    "        barSizeSetting= \"1 day\",\n",
    "        whatToShow='Trades',\n",
    "        useRTH=True,\n",
    "        formatDate=1)"
   ]
  },
  {
   "cell_type": "code",
   "execution_count": 110,
   "id": "impressed-bacon",
   "metadata": {},
   "outputs": [
    {
     "name": "stderr",
     "output_type": "stream",
     "text": [
      "Error 1100, reqId -1: Connectivity between IB and Trader Workstation has been lost.\n",
      "Error 1100, reqId -1: Connectivity between IB and Trader Workstation has been lost.\n",
      "Error 1100, reqId -1: Connectivity between IB and Trader Workstation has been lost.\n",
      "Error 1100, reqId -1: Connectivity between IB and Trader Workstation has been lost.\n",
      "Error 1100, reqId -1: Connectivity between IB and Trader Workstation has been lost.\n",
      "Error 1100, reqId -1: Connectivity between IB and Trader Workstation has been lost.\n",
      "Error 1100, reqId -1: Connectivity between IB and Trader Workstation has been lost.\n",
      "Error 1100, reqId -1: Connectivity between IB and Trader Workstation has been lost.\n"
     ]
    }
   ],
   "source": [
    "df = util.df(bar)"
   ]
  },
  {
   "cell_type": "code",
   "execution_count": 73,
   "id": "disciplinary-mother",
   "metadata": {},
   "outputs": [],
   "source": [
    "df.to_csv('vix.csv')"
   ]
  }
 ],
 "metadata": {
  "kernelspec": {
   "display_name": "Python 3",
   "language": "python",
   "name": "python3"
  },
  "language_info": {
   "codemirror_mode": {
    "name": "ipython",
    "version": 3
   },
   "file_extension": ".py",
   "mimetype": "text/x-python",
   "name": "python",
   "nbconvert_exporter": "python",
   "pygments_lexer": "ipython3",
   "version": "3.8.5"
  }
 },
 "nbformat": 4,
 "nbformat_minor": 5
}
