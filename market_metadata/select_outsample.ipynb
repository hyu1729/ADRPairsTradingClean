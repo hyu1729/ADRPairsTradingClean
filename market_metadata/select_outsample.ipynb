{
 "cells": [
  {
   "cell_type": "code",
   "execution_count": 1,
   "id": "visible-marks",
   "metadata": {},
   "outputs": [],
   "source": [
    "#from ib_insync import *\n",
    "import numpy as np\n",
    "import pandas as pd\n",
    "from scipy import stats\n",
    "import matplotlib.pyplot as plt\n",
    "import statsmodels\n",
    "import statsmodels.api as sm\n",
    "from statsmodels.tsa.stattools import coint, adfuller\n",
    "from statsmodels import regression,stats\n",
    "import math\n",
    "import datetime \n",
    "import statsmodels.formula.api as smf \n",
    "from datetime import date, time, datetime, timedelta\n",
    "from collections import deque\n",
    "from os import listdir\n",
    "from os.path import isfile, join\n",
    "from collections import defaultdict\n",
    "from operator import itemgetter\n",
    "\n"
   ]
  },
  {
   "cell_type": "code",
   "execution_count": 2,
   "id": "scheduled-closer",
   "metadata": {},
   "outputs": [],
   "source": [
    "df_rate = pd.read_csv(\"interest_rates.csv\", index_col = 0).rename(columns = {\"Date\":'date'})\n",
    "df_vix = pd.read_csv('vix.csv', index_col = 0).loc[:,['date','close']].rename(columns = {\"close\":'vix'})"
   ]
  },
  {
   "cell_type": "code",
   "execution_count": 3,
   "id": "victorian-transparency",
   "metadata": {
    "scrolled": true
   },
   "outputs": [],
   "source": [
    "df = pd.merge(df_rate, df_vix, how = 'left').iloc[15:,].reset_index().drop(columns = 'index').dropna()"
   ]
  },
  {
   "cell_type": "code",
   "execution_count": 4,
   "id": "possible-latter",
   "metadata": {},
   "outputs": [],
   "source": [
    "df_recent = df.iloc[-14:, :]"
   ]
  },
  {
   "cell_type": "code",
   "execution_count": 5,
   "id": "judicial-portfolio",
   "metadata": {
    "scrolled": true
   },
   "outputs": [],
   "source": [
    "df_recent = df.iloc[-14:, :]\n",
    "np.array(df_recent.mean())\n",
    "recent_measure =np.array(df_recent.mean())\n",
    "df_dist = df.loc[:,['date']]\n",
    "df_dist['dist'] = float('inf')"
   ]
  },
  {
   "cell_type": "code",
   "execution_count": 6,
   "id": "printable-stage",
   "metadata": {
    "scrolled": true
   },
   "outputs": [
    {
     "data": {
      "text/plain": [
       "rates_Aus       0.100000\n",
       "rates_US        0.000000\n",
       "rates_Japan    -0.100000\n",
       "rates_hk        0.860000\n",
       "vix            17.416429\n",
       "dtype: float64"
      ]
     },
     "execution_count": 6,
     "metadata": {},
     "output_type": "execute_result"
    }
   ],
   "source": [
    "df_recent.mean()"
   ]
  },
  {
   "cell_type": "code",
   "execution_count": 7,
   "id": "attended-insulation",
   "metadata": {},
   "outputs": [],
   "source": [
    "def distance(arr1, arr2):\n",
    "    return np.linalg.norm(arr1 - arr2)\n",
    "\n",
    "for idx, row in df.iterrows():\n",
    "    if idx < len(df) - 14:\n",
    "        df_sub = df.iloc[idx: idx + 1, :]\n",
    "        v = np.array(df_sub.mean())\n",
    "        \n",
    "        dist = distance(v, recent_measure)\n",
    " \n",
    "        df_dist.at[idx, 'dist'] = dist\n",
    "        \n",
    "       \n",
    "\n",
    "        \n",
    "        \n",
    "    "
   ]
  },
  {
   "cell_type": "code",
   "execution_count": 8,
   "id": "answering-milwaukee",
   "metadata": {
    "scrolled": true
   },
   "outputs": [
    {
     "data": {
      "text/html": [
       "<div>\n",
       "<style scoped>\n",
       "    .dataframe tbody tr th:only-of-type {\n",
       "        vertical-align: middle;\n",
       "    }\n",
       "\n",
       "    .dataframe tbody tr th {\n",
       "        vertical-align: top;\n",
       "    }\n",
       "\n",
       "    .dataframe thead th {\n",
       "        text-align: right;\n",
       "    }\n",
       "</style>\n",
       "<table border=\"1\" class=\"dataframe\">\n",
       "  <thead>\n",
       "    <tr style=\"text-align: right;\">\n",
       "      <th></th>\n",
       "      <th>date</th>\n",
       "      <th>dist</th>\n",
       "    </tr>\n",
       "  </thead>\n",
       "  <tbody>\n",
       "    <tr>\n",
       "      <th>3</th>\n",
       "      <td>2016-01-04</td>\n",
       "      <td>7.813679</td>\n",
       "    </tr>\n",
       "    <tr>\n",
       "      <th>4</th>\n",
       "      <td>2016-01-05</td>\n",
       "      <td>9.784233</td>\n",
       "    </tr>\n",
       "    <tr>\n",
       "      <th>5</th>\n",
       "      <td>2016-01-06</td>\n",
       "      <td>7.146898</td>\n",
       "    </tr>\n",
       "    <tr>\n",
       "      <th>6</th>\n",
       "      <td>2016-01-07</td>\n",
       "      <td>5.406772</td>\n",
       "    </tr>\n",
       "    <tr>\n",
       "      <th>7</th>\n",
       "      <td>2016-01-08</td>\n",
       "      <td>8.036811</td>\n",
       "    </tr>\n",
       "    <tr>\n",
       "      <th>...</th>\n",
       "      <td>...</td>\n",
       "      <td>...</td>\n",
       "    </tr>\n",
       "    <tr>\n",
       "      <th>1931</th>\n",
       "      <td>2021-04-13</td>\n",
       "      <td>inf</td>\n",
       "    </tr>\n",
       "    <tr>\n",
       "      <th>1932</th>\n",
       "      <td>2021-04-14</td>\n",
       "      <td>inf</td>\n",
       "    </tr>\n",
       "    <tr>\n",
       "      <th>1933</th>\n",
       "      <td>2021-04-15</td>\n",
       "      <td>inf</td>\n",
       "    </tr>\n",
       "    <tr>\n",
       "      <th>1934</th>\n",
       "      <td>2021-04-16</td>\n",
       "      <td>inf</td>\n",
       "    </tr>\n",
       "    <tr>\n",
       "      <th>1937</th>\n",
       "      <td>2021-04-19</td>\n",
       "      <td>inf</td>\n",
       "    </tr>\n",
       "  </tbody>\n",
       "</table>\n",
       "<p>1332 rows × 2 columns</p>\n",
       "</div>"
      ],
      "text/plain": [
       "            date      dist\n",
       "3     2016-01-04  7.813679\n",
       "4     2016-01-05  9.784233\n",
       "5     2016-01-06  7.146898\n",
       "6     2016-01-07  5.406772\n",
       "7     2016-01-08  8.036811\n",
       "...          ...       ...\n",
       "1931  2021-04-13       inf\n",
       "1932  2021-04-14       inf\n",
       "1933  2021-04-15       inf\n",
       "1934  2021-04-16       inf\n",
       "1937  2021-04-19       inf\n",
       "\n",
       "[1332 rows x 2 columns]"
      ]
     },
     "execution_count": 8,
     "metadata": {},
     "output_type": "execute_result"
    }
   ],
   "source": [
    "df_dist"
   ]
  },
  {
   "cell_type": "code",
   "execution_count": 9,
   "id": "yellow-surrey",
   "metadata": {},
   "outputs": [],
   "source": [
    "min_dist = float('inf')\n",
    "start_date = \"\"\n",
    "for idx, row in df_dist.iterrows():\n",
    "    date_time_obj = datetime.strptime(row['date'], '%Y-%m-%d')\n",
    "    if date_time_obj  < datetime(2020, 4, 2):\n",
    "        df_sub = df_dist.iloc[idx: idx +252, : ]\n",
    "        avg_dist = df_sub['dist'].mean()\n",
    "        if avg_dist < min_dist:\n",
    "            min_dist, start_date = avg_dist, row['date']\n",
    "        \n",
    "        \n",
    "    "
   ]
  },
  {
   "cell_type": "code",
   "execution_count": 11,
   "id": "directed-gentleman",
   "metadata": {},
   "outputs": [
    {
     "data": {
      "text/plain": [
       "4.543500731386378"
      ]
     },
     "execution_count": 11,
     "metadata": {},
     "output_type": "execute_result"
    }
   ],
   "source": [
    "min_dist"
   ]
  },
  {
   "cell_type": "code",
   "execution_count": 10,
   "id": "outdoor-intellectual",
   "metadata": {},
   "outputs": [
    {
     "data": {
      "text/plain": [
       "'2017-04-07'"
      ]
     },
     "execution_count": 10,
     "metadata": {},
     "output_type": "execute_result"
    }
   ],
   "source": [
    "start_date"
   ]
  }
 ],
 "metadata": {
  "kernelspec": {
   "display_name": "Python 3",
   "language": "python",
   "name": "python3"
  },
  "language_info": {
   "codemirror_mode": {
    "name": "ipython",
    "version": 3
   },
   "file_extension": ".py",
   "mimetype": "text/x-python",
   "name": "python",
   "nbconvert_exporter": "python",
   "pygments_lexer": "ipython3",
   "version": "3.8.5"
  }
 },
 "nbformat": 4,
 "nbformat_minor": 5
}
