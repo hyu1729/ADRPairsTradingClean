{
 "cells": [
  {
   "cell_type": "code",
   "execution_count": 1,
   "metadata": {},
   "outputs": [],
   "source": [
    "import pandas as pd"
   ]
  },
  {
   "cell_type": "code",
   "execution_count": 2,
   "metadata": {},
   "outputs": [],
   "source": [
    "# Source csv obtained from https://stockmarketmba.com/listofadrs.php\n",
    "df = pd.read_csv(\"List_of_ADRs.csv\")"
   ]
  },
  {
   "cell_type": "code",
   "execution_count": 3,
   "metadata": {},
   "outputs": [],
   "source": [
    "# Filter for ADRs which have non-overlapping market hours, and those that we have IB data for\n",
    "df = df.dropna(subset = [\"Underlying Exchange\"])\n",
    "df = df[df[\"Country\"].isin([\"Australia\", \"China\", \"Japan\", \"India\"])]\n",
    "df = df[~df[\"Underlying Exchange\"].isin([\"London Stock Exchange\"])]\n",
    "# Further filter for those that we can find on IB manually\n",
    "df = df[~df[\"Symbol\"].isin([\"BHP\", \"BNTC\", \"LFC\", \"SNP\", \"PTR\", \"ZNH\", \"CEA\", \"ACH\", \"SHI\", \"SNE\"])]"
   ]
  },
  {
   "cell_type": "code",
   "execution_count": 4,
   "metadata": {},
   "outputs": [],
   "source": [
    "df.to_csv(\"Asian_ADRs.csv\")"
   ]
  },
  {
   "cell_type": "code",
   "execution_count": 5,
   "metadata": {},
   "outputs": [],
   "source": [
    "# Do we have data for both ADR and Stock\n",
    "# 15      BHP - No\n",
    "# 16      WBK - Yes\n",
    "# 18      JHX - Yes\n",
    "# 19     MESO - Yes\n",
    "# 20      PLL - Yes\n",
    "# 22     IMMP - Yes\n",
    "# 23     KZIA - Yes\n",
    "# 24     GENE - Yes\n",
    "# 25     ATHE - Yes\n",
    "# 26     IMRN - Yes\n",
    "# 27     BNTC - No\n",
    "# 83     BGNE - Yes\n",
    "# 92      LFC - No?\n",
    "# 94      SNP - No?\n",
    "# 102     PTR - No?\n",
    "# 119     ZNH - No?\n",
    "# 125     CEA - No?\n",
    "# 132     ACH - No?\n",
    "# 133     HNP - Yes\n",
    "# 150     SHI - No?\n",
    "# 269     HDB - Yes\n",
    "# 270    INFY - Yes\n",
    "# 271     IBN - Yes\n",
    "# 272     WIT - Yes\n",
    "# 273     TTM - Yes\n",
    "# 274    VEDL - Yes\n",
    "# 275     RDY - Yes\n",
    "# 307      TM - Yes\n",
    "# 308    SONY - Yes\n",
    "# 309     SNE - No\n",
    "# 310    MUFG - Yes\n",
    "# 311     TAK - Yes\n",
    "# 312     HMC - Yes\n",
    "# 313    SMFG - Yes\n",
    "# 314     MFG - Yes\n",
    "# 315     CAJ - Yes\n",
    "# 316      IX - Yes\n",
    "# 317     NMR - Yes"
   ]
  }
 ],
 "metadata": {
  "kernelspec": {
   "display_name": "Python 3",
   "language": "python",
   "name": "python3"
  },
  "language_info": {
   "codemirror_mode": {
    "name": "ipython",
    "version": 3
   },
   "file_extension": ".py",
   "mimetype": "text/x-python",
   "name": "python",
   "nbconvert_exporter": "python",
   "pygments_lexer": "ipython3",
   "version": "3.7.6"
  }
 },
 "nbformat": 4,
 "nbformat_minor": 4
}
