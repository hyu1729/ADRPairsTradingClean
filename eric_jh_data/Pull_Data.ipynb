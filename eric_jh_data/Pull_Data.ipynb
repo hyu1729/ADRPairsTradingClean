{
 "cells": [
  {
   "cell_type": "code",
   "execution_count": 2,
   "metadata": {},
   "outputs": [
    {
     "data": {
      "text/plain": [
       "<IB connected to 127.0.0.1:7497 clientId=15>"
      ]
     },
     "execution_count": 2,
     "metadata": {},
     "output_type": "execute_result"
    }
   ],
   "source": [
    "from ib_insync import *\n",
    "util.startLoop()\n",
    "\n",
    "ib = IB()\n",
    "ib.connect('127.0.0.1', 7497, clientId=15)"
   ]
  },
  {
   "cell_type": "code",
   "execution_count": 3,
   "metadata": {},
   "outputs": [],
   "source": [
    "from ib_insync import *\n",
    "import numpy as np\n",
    "import pandas as pd\n",
    "from scipy import stats\n",
    "import matplotlib.pyplot as plt\n",
    "import math\n",
    "import datetime \n",
    "import statsmodels.formula.api as smf \n",
    "from datetime import date, time, datetime, timedelta\n",
    "import seaborn as sns\n",
    "import random\n",
    "from ta import add_all_ta_features\n",
    "from ta.utils import dropna\n",
    "from ta.trend import *"
   ]
  },
  {
   "cell_type": "code",
   "execution_count": 14,
   "metadata": {},
   "outputs": [],
   "source": [
    "#define a function to get IB data. endDate is the last date of the historical data \n",
    "\n",
    "def get_data(contract, history, freq, side, endDate =''):\n",
    "    bar = ib.reqHistoricalData(\n",
    "        contract,\n",
    "        endDateTime = endDate,\n",
    "        durationStr=history,\n",
    "        barSizeSetting= freq,\n",
    "        whatToShow=side,\n",
    "        useRTH=True,\n",
    "        formatDate=1)\n",
    "    return util.df(bar)\n",
    "\n",
    "history = '6 Y'\n",
    "freq = '1 day'\n",
    "side ='BID_ASK'"
   ]
  },
  {
   "cell_type": "code",
   "execution_count": null,
   "metadata": {},
   "outputs": [],
   "source": [
    "# Pull data from ADRs in \"Asian_ADRs.csv\"\n",
    "adr_symbol = \"VEDL\"\n",
    "adr_exchange = 'SMART'\n",
    "adr_currency = \"USD\"\n",
    "\n",
    "underlying_symbol = 'VEDL'\n",
    "underlying_exchange = 'NSE'\n",
    "underlying_currency = 'INR'\n",
    "underlying_country = \"India\"\n",
    "\n",
    "folder_name = underlying_country + \"/\" + adr_symbol + \"_\" + underlying_symbol + \"/\""
   ]
  },
  {
   "cell_type": "code",
   "execution_count": null,
   "metadata": {},
   "outputs": [],
   "source": [
    "adr_contract = Contract(symbol = adr_symbol, secType = 'STK', exchange = adr_exchange, currency = adr_currency)\n",
    "ib.qualifyContracts(adr_contract)\n",
    "adr_df = get_data(adr_contract, history, freq, side)\n",
    "print(adr_df.head(3))\n",
    "adr_df.to_csv(folder_name + \"adr.csv\")"
   ]
  },
  {
   "cell_type": "code",
   "execution_count": null,
   "metadata": {},
   "outputs": [],
   "source": [
    "underlying_contract = Contract(symbol = underlying_symbol, secType = 'STK', exchange = underlying_exchange, currency = underlying_currency)\n",
    "ib.qualifyContracts(underlying_contract)\n",
    "underlying_df = get_data(underlying_contract, history, freq, side)\n",
    "print(underlying_df.head(3))\n",
    "underlying_df.to_csv(folder_name + \"underlying.csv\")"
   ]
  },
  {
   "cell_type": "code",
   "execution_count": 1,
   "metadata": {},
   "outputs": [],
   "source": [
    "# No underlying data for:\n",
    "# VEDL-VEDL\n",
    "# PLL-PLL\n",
    "# IMMP-IMM\n",
    "# KZIA-KZA"
   ]
  },
  {
   "cell_type": "code",
   "execution_count": 47,
   "metadata": {},
   "outputs": [],
   "source": [
    "currency1 = \"USD\"\n",
    "secType = \"CASH\"\n",
    "currency2 = \"RUB\"\n",
    "exchange = \"IDEALPRO\"\n",
    "\n",
    "folder_name = \"Forex/\""
   ]
  },
  {
   "cell_type": "code",
   "execution_count": 48,
   "metadata": {},
   "outputs": [
    {
     "name": "stdout",
     "output_type": "stream",
     "text": [
      "         date      open      high       low     close  volume  average  \\\n",
      "0  2015-04-10  51.95738  53.73462  50.25350  52.15030      -1     -1.0   \n",
      "1  2015-04-13  52.97532  55.05547  51.84043  53.09138      -1     -1.0   \n",
      "2  2015-04-14  51.65213  52.89562  50.61336  51.79561      -1     -1.0   \n",
      "\n",
      "   barCount  \n",
      "0        -1  \n",
      "1        -1  \n",
      "2        -1  \n"
     ]
    }
   ],
   "source": [
    "forex_contract = Contract(symbol = currency1, secType = secType, exchange = exchange, currency = currency2)\n",
    "ib.qualifyContracts(forex_contract)\n",
    "forex_df = get_data(forex_contract, history, freq, side)\n",
    "print(forex_df.head(3))\n",
    "forex_df.to_csv(folder_name + currency1 + \"_\" + currency2 + \".csv\")"
   ]
  },
  {
   "cell_type": "code",
   "execution_count": null,
   "metadata": {},
   "outputs": [],
   "source": []
  }
 ],
 "metadata": {
  "kernelspec": {
   "display_name": "Python 3",
   "language": "python",
   "name": "python3"
  },
  "language_info": {
   "codemirror_mode": {
    "name": "ipython",
    "version": 3
   },
   "file_extension": ".py",
   "mimetype": "text/x-python",
   "name": "python",
   "nbconvert_exporter": "python",
   "pygments_lexer": "ipython3",
   "version": "3.7.0"
  }
 },
 "nbformat": 4,
 "nbformat_minor": 4
}
