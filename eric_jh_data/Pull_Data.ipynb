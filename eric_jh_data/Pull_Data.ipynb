{
 "cells": [
  {
   "cell_type": "code",
   "execution_count": 1,
   "metadata": {},
   "outputs": [
    {
     "data": {
      "text/plain": [
       "<IB connected to 127.0.0.1:7497 clientId=15>"
      ]
     },
     "execution_count": 1,
     "metadata": {},
     "output_type": "execute_result"
    }
   ],
   "source": [
    "from ib_insync import *\n",
    "util.startLoop()\n",
    "\n",
    "ib = IB()\n",
    "ib.connect('127.0.0.1', 7497, clientId=15)"
   ]
  },
  {
   "cell_type": "code",
   "execution_count": 2,
   "metadata": {},
   "outputs": [],
   "source": [
    "from ib_insync import *\n",
    "import numpy as np\n",
    "import pandas as pd\n",
    "from scipy import stats\n",
    "import matplotlib.pyplot as plt\n",
    "import math\n",
    "import datetime \n",
    "import statsmodels.formula.api as smf \n",
    "from datetime import date, time, datetime, timedelta\n",
    "import seaborn as sns\n",
    "import random\n",
    "from ta import add_all_ta_features\n",
    "from ta.utils import dropna\n",
    "from ta.trend import *"
   ]
  },
  {
   "cell_type": "code",
   "execution_count": 3,
   "metadata": {},
   "outputs": [],
   "source": [
    "#define a function to get IB data. endDate is the last date of the historical data \n",
    "\n",
    "def get_data(contract, history, freq, side, endDate =''):\n",
    "    bar = ib.reqHistoricalData(\n",
    "        contract,\n",
    "        endDateTime = endDate,\n",
    "        durationStr=history,\n",
    "        barSizeSetting= freq,\n",
    "        whatToShow=side,\n",
    "        useRTH=True,\n",
    "        formatDate=1)\n",
    "    return util.df(bar)\n",
    "\n",
    "history = '6 Y'\n",
    "freq = '1 day'\n",
    "side ='BID_ASK'"
   ]
  },
  {
   "cell_type": "code",
   "execution_count": 30,
   "metadata": {},
   "outputs": [],
   "source": [
    "# Pull data from ADRs in \"Asian_ADRs.csv\"\n",
    "adr_symbol = \"PLL\"\n",
    "adr_exchange = 'SMART'\n",
    "adr_currency = \"USD\"\n",
    "\n",
    "underlying_symbol = 'INFY'\n",
    "underlying_exchange = 'NSE'\n",
    "underlying_currency = 'INR'\n",
    "underlying_country = \"India\"\n",
    "\n",
    "folder_name = underlying_country + \"/\" + adr_symbol + \"_\" + underlying_symbol + \"/\""
   ]
  },
  {
   "cell_type": "code",
   "execution_count": 23,
   "metadata": {},
   "outputs": [
    {
     "name": "stdout",
     "output_type": "stream",
     "text": [
      "         date   open   high    low  close  volume  average  barCount\n",
      "0  2015-04-10  52.97  54.22  52.38  53.07      -1     -1.0        -1\n",
      "1  2015-04-13  53.07  53.90  52.52  53.19      -1     -1.0        -1\n",
      "2  2015-04-14  50.04  50.80  49.67  50.17      -1     -1.0        -1\n"
     ]
    }
   ],
   "source": [
    "adr_contract = Contract(symbol = adr_symbol, secType = 'STK', exchange = adr_exchange, currency = adr_currency)\n",
    "ib.qualifyContracts(adr_contract)\n",
    "adr_df = get_data(adr_contract, history, freq, side)\n",
    "print(adr_df.head(3))\n",
    "adr_df.to_csv(folder_name + \"adr.csv\")"
   ]
  },
  {
   "cell_type": "code",
   "execution_count": 24,
   "metadata": {},
   "outputs": [
    {
     "name": "stdout",
     "output_type": "stream",
     "text": [
      "         date   open  high   low  close  volume  average  barCount\n",
      "0  2015-04-10  4.099  4.22  3.96  4.110      -1     -1.0        -1\n",
      "1  2015-04-13  4.103  4.17  4.01  4.114      -1     -1.0        -1\n",
      "2  2015-04-14  4.013  4.15  3.81  4.026      -1     -1.0        -1\n"
     ]
    }
   ],
   "source": [
    "underlying_contract = Contract(symbol = underlying_symbol, secType = 'STK', exchange = underlying_exchange, currency = underlying_currency)\n",
    "ib.qualifyContracts(underlying_contract)\n",
    "underlying_df = get_data(underlying_contract, history, freq, side)\n",
    "print(underlying_df.head(3))\n",
    "underlying_df.to_csv(folder_name + \"underlying.csv\")"
   ]
  },
  {
   "cell_type": "code",
   "execution_count": 1,
   "metadata": {},
   "outputs": [],
   "source": [
    "# No underlying data for:\n",
    "# VEDL-VEDL\n",
    "# PLL-PLL\n",
    "# IMMP-IMM\n",
    "# KZIA-KZA\n",
    "# ATHE-ATH"
   ]
  },
  {
   "cell_type": "code",
   "execution_count": 31,
   "metadata": {},
   "outputs": [
    {
     "data": {
      "text/plain": [
       "[Contract(secType='STK', conId=44652017, symbol='INFY', exchange='NSE', primaryExchange='NSE', currency='INR', localSymbol='INFY', tradingClass='INFY')]"
      ]
     },
     "execution_count": 31,
     "metadata": {},
     "output_type": "execute_result"
    }
   ],
   "source": [
    "underlying_contract = Contract(symbol = underlying_symbol, secType = 'STK', exchange = underlying_exchange, currency = underlying_currency)\n",
    "ib.qualifyContracts(underlying_contract)"
   ]
  },
  {
   "cell_type": "code",
   "execution_count": 32,
   "metadata": {},
   "outputs": [
    {
     "name": "stderr",
     "output_type": "stream",
     "text": [
      "Error 162, reqId 36: Historical Market Data Service error message:No market data permissions for NSE STK, contract: Contract(secType='STK', conId=44652017, symbol='INFY', exchange='NSE', primaryExchange='NSE', currency='INR', localSymbol='INFY', tradingClass='INFY')\n"
     ]
    },
    {
     "ename": "AttributeError",
     "evalue": "'NoneType' object has no attribute 'head'",
     "output_type": "error",
     "traceback": [
      "\u001b[0;31m---------------------------------------------------------------------------\u001b[0m",
      "\u001b[0;31mAttributeError\u001b[0m                            Traceback (most recent call last)",
      "\u001b[0;32m<ipython-input-32-b5f829a206ae>\u001b[0m in \u001b[0;36m<module>\u001b[0;34m\u001b[0m\n\u001b[1;32m      1\u001b[0m \u001b[0munderlying_df\u001b[0m \u001b[0;34m=\u001b[0m \u001b[0mget_data\u001b[0m\u001b[0;34m(\u001b[0m\u001b[0munderlying_contract\u001b[0m\u001b[0;34m,\u001b[0m \u001b[0mhistory\u001b[0m\u001b[0;34m,\u001b[0m \u001b[0mfreq\u001b[0m\u001b[0;34m,\u001b[0m \u001b[0mside\u001b[0m\u001b[0;34m)\u001b[0m\u001b[0;34m\u001b[0m\u001b[0;34m\u001b[0m\u001b[0m\n\u001b[0;32m----> 2\u001b[0;31m \u001b[0mprint\u001b[0m\u001b[0;34m(\u001b[0m\u001b[0munderlying_df\u001b[0m\u001b[0;34m.\u001b[0m\u001b[0mhead\u001b[0m\u001b[0;34m(\u001b[0m\u001b[0;36m3\u001b[0m\u001b[0;34m)\u001b[0m\u001b[0;34m)\u001b[0m\u001b[0;34m\u001b[0m\u001b[0;34m\u001b[0m\u001b[0m\n\u001b[0m\u001b[1;32m      3\u001b[0m \u001b[0;31m#underlying_df.to_csv(folder_name + \"underlying.csv\")\u001b[0m\u001b[0;34m\u001b[0m\u001b[0;34m\u001b[0m\u001b[0;34m\u001b[0m\u001b[0m\n",
      "\u001b[0;31mAttributeError\u001b[0m: 'NoneType' object has no attribute 'head'"
     ]
    },
    {
     "name": "stderr",
     "output_type": "stream",
     "text": [
      "Error 162, reqId 36: Historical Market Data Service error message:No market data permissions for NSE STK\n",
      "Peer closed connection\n"
     ]
    }
   ],
   "source": [
    "underlying_df = get_data(underlying_contract, history, freq, side)\n",
    "print(underlying_df.head(3))\n",
    "#underlying_df.to_csv(folder_name + \"underlying.csv\")"
   ]
  },
  {
   "cell_type": "code",
   "execution_count": null,
   "metadata": {},
   "outputs": [],
   "source": []
  }
 ],
 "metadata": {
  "kernelspec": {
   "display_name": "Python 3",
   "language": "python",
   "name": "python3"
  },
  "language_info": {
   "codemirror_mode": {
    "name": "ipython",
    "version": 3
   },
   "file_extension": ".py",
   "mimetype": "text/x-python",
   "name": "python",
   "nbconvert_exporter": "python",
   "pygments_lexer": "ipython3",
   "version": "3.7.6"
  }
 },
 "nbformat": 4,
 "nbformat_minor": 4
}
