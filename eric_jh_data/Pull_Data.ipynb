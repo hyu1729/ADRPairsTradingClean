{
 "cells": [
  {
   "cell_type": "code",
   "execution_count": 1,
   "metadata": {},
   "outputs": [
    {
     "data": {
      "text/plain": [
       "<IB connected to 127.0.0.1:7497 clientId=15>"
      ]
     },
     "execution_count": 1,
     "metadata": {},
     "output_type": "execute_result"
    }
   ],
   "source": [
    "from ib_insync import *\n",
    "util.startLoop()\n",
    "\n",
    "ib = IB()\n",
    "ib.connect('127.0.0.1', 7497, clientId=15)"
   ]
  },
  {
   "cell_type": "code",
   "execution_count": 11,
   "metadata": {},
   "outputs": [],
   "source": [
    "ib.disconnect()"
   ]
  },
  {
   "cell_type": "code",
   "execution_count": 2,
   "metadata": {},
   "outputs": [],
   "source": [
    "from ib_insync import *\n",
    "import numpy as np\n",
    "import pandas as pd\n",
    "from scipy import stats\n",
    "import matplotlib.pyplot as plt\n",
    "import math\n",
    "import datetime \n",
    "import statsmodels.formula.api as smf \n",
    "from datetime import date, time, datetime, timedelta\n",
    "import seaborn as sns\n",
    "import random\n",
    "from ta import add_all_ta_features\n",
    "from ta.utils import dropna\n",
    "from ta.trend import *"
   ]
  },
  {
   "cell_type": "code",
   "execution_count": 3,
   "metadata": {},
   "outputs": [],
   "source": [
    "#define a function to get IB data. endDate is the last date of the historical data \n",
    "\n",
    "def get_data(contract, history, freq, side, endDate =''):\n",
    "    bar = ib.reqHistoricalData(\n",
    "        contract,\n",
    "        endDateTime = endDate,\n",
    "        durationStr=history,\n",
    "        barSizeSetting= freq,\n",
    "        whatToShow=side,\n",
    "        useRTH=True,\n",
    "        formatDate=1)\n",
    "    return util.df(bar)\n",
    "\n",
    "history = '6 Y'\n",
    "freq = '1 day'\n",
    "side ='Trades'"
   ]
  },
  {
   "cell_type": "code",
   "execution_count": 51,
   "metadata": {},
   "outputs": [],
   "source": [
    "# Pull data from ADRs in \"Asian_ADRs.csv\"\n",
    "adr_symbol = \"ATHE\"\n",
    "adr_exchange = 'SMART'\n",
    "adr_currency = \"USD\"\n",
    "\n",
    "underlying_symbol = 'ATH'\n",
    "underlying_exchange = 'SMART'\n",
    "underlying_currency = 'AUD'\n",
    "underlying_country = \"Australia\"\n",
    "\n",
    "folder_name = underlying_country + \"/\" + adr_symbol + \"_\" + underlying_symbol + \"/\""
   ]
  },
  {
   "cell_type": "code",
   "execution_count": 52,
   "metadata": {},
   "outputs": [
    {
     "name": "stdout",
     "output_type": "stream",
     "text": [
      "         date  open  high   low  close  volume   average  barCount\n",
      "0  2016-03-24  3.40  3.40  3.01   3.05     543  3.151305       188\n",
      "1  2016-03-28  3.04  3.05  2.90   2.99     487  2.965910       149\n",
      "2  2016-03-29  3.00  3.05  2.80   2.84     316  2.902850       125\n"
     ]
    }
   ],
   "source": [
    "adr_contract = Contract(symbol = adr_symbol, secType = 'STK', exchange = adr_exchange, currency = adr_currency)\n",
    "ib.qualifyContracts(adr_contract)\n",
    "adr_df = get_data(adr_contract, history, freq, side)\n",
    "print(adr_df.head(3))\n",
    "adr_df.to_csv(folder_name + \"adr.csv\")"
   ]
  },
  {
   "cell_type": "code",
   "execution_count": 53,
   "metadata": {},
   "outputs": [
    {
     "name": "stdout",
     "output_type": "stream",
     "text": [
      "         date   open   high   low  close  volume  average  barCount\n",
      "0  2015-04-17  0.140  0.145  0.14   0.14  127888  0.14005        19\n",
      "1  2015-04-20  0.145  0.145  0.14   0.14   70030  0.14115        49\n",
      "2  2015-04-21  0.142  0.145  0.14   0.14   67136  0.14435        28\n"
     ]
    }
   ],
   "source": [
    "underlying_contract = Contract(symbol = underlying_symbol, secType = 'STK', exchange = underlying_exchange, currency = underlying_currency)\n",
    "ib.qualifyContracts(underlying_contract)\n",
    "underlying_df = get_data(underlying_contract, history, freq, side)\n",
    "print(underlying_df.head(3))\n",
    "underlying_df.to_csv(folder_name + \"underlying.csv\")"
   ]
  },
  {
   "cell_type": "code",
   "execution_count": 4,
   "metadata": {},
   "outputs": [],
   "source": [
    "def AUS_opening(date_now):\n",
    "#     aus_dst = {\n",
    "#         2021: (date(2021, 4, 4), date(2021, 10, 3)),\n",
    "#         2020: (date(2020, 4, 5), date(2020, 10, 4)),\n",
    "#         2019: (date(2019, 4, 7), date(2019, 10, 6)),\n",
    "#         2018: (date(2018, 4, 1), date(2018, 10, 7)),\n",
    "#         2017: (date(2017, 4, 2), date(2017, 10, 1)),\n",
    "#         2016: (date(2016, 4, 3), date(2016, 10, 2)),\n",
    "#         2015: (date(2015, 4, 5), date(2015, 10, 4)),\n",
    "#     }\n",
    "    \n",
    "    us_dst = {\n",
    "        2021: (datetime(2021, 3, 14), datetime(2021, 11, 7)),\n",
    "        2020: (datetime(2020, 3, 8),  datetime(2020, 11, 1)),\n",
    "        2019: (datetime(2019, 3, 10), datetime(2019, 11, 3)),\n",
    "        2018: (datetime(2018, 3, 11), datetime(2018, 11, 4)),\n",
    "        2017: (datetime(2017, 3, 12), datetime(2017, 11, 5)),\n",
    "        2016: (datetime(2016, 3, 13), datetime(2016, 11, 6)),\n",
    "        2015: (datetime(2015, 3, 9),  datetime(2015, 11, 2)),\n",
    "    }\n",
    "    \n",
    "    us_start, us_end = us_dst[date_now.year]\n",
    "    if us_start < date_now and date_now < us_end:\n",
    "        return datetime.combine(date_now,time(10,0)) - timedelta(hours = 14)\n",
    "    else:\n",
    "        return datetime.combine(date_now, time(10,0)) - timedelta(hours = 15)\n",
    "\n",
    "def HK_opening(date_now):\n",
    "    us_dst = {\n",
    "        2021: (datetime(2021, 3, 14), datetime(2021, 11, 7)),\n",
    "        2020: (datetime(2020, 3, 8),  datetime(2020, 11, 1)),\n",
    "        2019: (datetime(2019, 3, 10), datetime(2019, 11, 3)),\n",
    "        2018: (datetime(2018, 3, 11), datetime(2018, 11, 4)),\n",
    "        2017: (datetime(2017, 3, 12), datetime(2017, 11, 5)),\n",
    "        2016: (datetime(2016, 3, 13), datetime(2016, 11, 6)),\n",
    "        2015: (datetime(2015, 3, 9),  datetime(2015, 11, 2)),\n",
    "    }\n",
    "    start, end = us_dst[date_now.year]\n",
    "    if start < date_now and date_now < end:\n",
    "        return datetime.combine(date_now,time(9,30)) - timedelta(hours = 12)\n",
    "    else:\n",
    "        return datetime.combine(date_now, time(9,30)) - timedelta(hours = 13)\n",
    "    \n",
    "def JPN_opening(date_now):\n",
    "    us_dst = {\n",
    "        2021: (datetime(2021, 3, 14), datetime(2021, 11, 7)),\n",
    "        2020: (datetime(2020, 3, 8),  datetime(2020, 11, 1)),\n",
    "        2019: (datetime(2019, 3, 10), datetime(2019, 11, 3)),\n",
    "        2018: (datetime(2018, 3, 11), datetime(2018, 11, 4)),\n",
    "        2017: (datetime(2017, 3, 12), datetime(2017, 11, 5)),\n",
    "        2016: (datetime(2016, 3, 13), datetime(2016, 11, 6)),\n",
    "        2015: (datetime(2015, 3, 9),  datetime(2015, 11, 2)),\n",
    "    }\n",
    "    start, end = us_dst[date_now.year]\n",
    "    if start < date_now and date_now < end:\n",
    "        return datetime.combine(date_now,time(9,0)) - timedelta(hours = 13)\n",
    "    else:\n",
    "        return datetime.combine(date_now,time(9,0)) - timedelta(hours = 14)\n",
    "    "
   ]
  },
  {
   "cell_type": "code",
   "execution_count": 160,
   "metadata": {},
   "outputs": [
    {
     "name": "stdout",
     "output_type": "stream",
     "text": [
      "2021-04-15 20:00:00\n",
      "2021-04-15 21:30:00\n",
      "2021-04-15 20:00:00\n"
     ]
    }
   ],
   "source": [
    "date = datetime.now()\n",
    "\n",
    "print(AUS_opening(date))\n",
    "print(HK_opening(date))\n",
    "print(JPN_opening(date))"
   ]
  },
  {
   "cell_type": "code",
   "execution_count": 5,
   "metadata": {},
   "outputs": [],
   "source": [
    "forex_pairs = [[\"AUD\",  \"USD\", \"USD\"],[\"USD\", \"HKD\", \"JPY\",]]\n",
    "opening_hours = [AUS_opening, HK_opening, JPN_opening]\n",
    "df_dict = {}\n",
    "forex_contracts = []\n",
    "history = '300 S'\n",
    "freq = '1 min'\n",
    "side ='BID_ASK'"
   ]
  },
  {
   "cell_type": "code",
   "execution_count": 6,
   "metadata": {},
   "outputs": [
    {
     "name": "stderr",
     "output_type": "stream",
     "text": [
      "Error 1102, reqId -1: Connectivity between IB and Trader Workstation has been restored - data maintained. All data farms are connected: usfarm; cashhmds; ushmds; secdefil.\n",
      "Peer closed connection\n"
     ]
    },
    {
     "ename": "ConnectionError",
     "evalue": "Socket disconnect",
     "output_type": "error",
     "traceback": [
      "\u001b[1;31m---------------------------------------------------------------------------\u001b[0m",
      "\u001b[1;31mCancelledError\u001b[0m                            Traceback (most recent call last)",
      "\u001b[1;32mD:\\Anaconda3\\lib\\site-packages\\ib_insync\\util.py\u001b[0m in \u001b[0;36mrun\u001b[1;34m(timeout, *awaitables)\u001b[0m\n\u001b[0;32m    321\u001b[0m         \u001b[1;32mtry\u001b[0m\u001b[1;33m:\u001b[0m\u001b[1;33m\u001b[0m\u001b[0m\n\u001b[1;32m--> 322\u001b[1;33m             \u001b[0mresult\u001b[0m \u001b[1;33m=\u001b[0m \u001b[0mloop\u001b[0m\u001b[1;33m.\u001b[0m\u001b[0mrun_until_complete\u001b[0m\u001b[1;33m(\u001b[0m\u001b[0mtask\u001b[0m\u001b[1;33m)\u001b[0m\u001b[1;33m\u001b[0m\u001b[0m\n\u001b[0m\u001b[0;32m    323\u001b[0m         \u001b[1;32mexcept\u001b[0m \u001b[0masyncio\u001b[0m\u001b[1;33m.\u001b[0m\u001b[0mCancelledError\u001b[0m \u001b[1;32mas\u001b[0m \u001b[0me\u001b[0m\u001b[1;33m:\u001b[0m\u001b[1;33m\u001b[0m\u001b[0m\n",
      "\u001b[1;32mD:\\Anaconda3\\lib\\site-packages\\nest_asyncio.py\u001b[0m in \u001b[0;36mrun_until_complete\u001b[1;34m(self, future)\u001b[0m\n\u001b[0;32m     69\u001b[0m                     'Event loop stopped before Future completed.')\n\u001b[1;32m---> 70\u001b[1;33m             \u001b[1;32mreturn\u001b[0m \u001b[0mf\u001b[0m\u001b[1;33m.\u001b[0m\u001b[0mresult\u001b[0m\u001b[1;33m(\u001b[0m\u001b[1;33m)\u001b[0m\u001b[1;33m\u001b[0m\u001b[0m\n\u001b[0m\u001b[0;32m     71\u001b[0m \u001b[1;33m\u001b[0m\u001b[0m\n",
      "\u001b[1;32mD:\\Anaconda3\\lib\\asyncio\\futures.py\u001b[0m in \u001b[0;36mresult\u001b[1;34m(self)\u001b[0m\n\u001b[0;32m    172\u001b[0m         \u001b[1;32mif\u001b[0m \u001b[0mself\u001b[0m\u001b[1;33m.\u001b[0m\u001b[0m_state\u001b[0m \u001b[1;33m==\u001b[0m \u001b[0m_CANCELLED\u001b[0m\u001b[1;33m:\u001b[0m\u001b[1;33m\u001b[0m\u001b[0m\n\u001b[1;32m--> 173\u001b[1;33m             \u001b[1;32mraise\u001b[0m \u001b[0mCancelledError\u001b[0m\u001b[1;33m\u001b[0m\u001b[0m\n\u001b[0m\u001b[0;32m    174\u001b[0m         \u001b[1;32mif\u001b[0m \u001b[0mself\u001b[0m\u001b[1;33m.\u001b[0m\u001b[0m_state\u001b[0m \u001b[1;33m!=\u001b[0m \u001b[0m_FINISHED\u001b[0m\u001b[1;33m:\u001b[0m\u001b[1;33m\u001b[0m\u001b[0m\n",
      "\u001b[1;31mCancelledError\u001b[0m: ",
      "\nDuring handling of the above exception, another exception occurred:\n",
      "\u001b[1;31mConnectionError\u001b[0m                           Traceback (most recent call last)",
      "\u001b[1;32m<ipython-input-6-f2f7be27e1bf>\u001b[0m in \u001b[0;36m<module>\u001b[1;34m()\u001b[0m\n\u001b[0;32m     35\u001b[0m         \u001b[1;31m# Other Exchange Opening\u001b[0m\u001b[1;33m\u001b[0m\u001b[1;33m\u001b[0m\u001b[0m\n\u001b[0;32m     36\u001b[0m         \u001b[0menddate\u001b[0m \u001b[1;33m=\u001b[0m \u001b[0mopening_hours\u001b[0m\u001b[1;33m[\u001b[0m\u001b[0mi\u001b[0m\u001b[1;33m]\u001b[0m\u001b[1;33m(\u001b[0m\u001b[0mclose_date\u001b[0m\u001b[1;33m)\u001b[0m \u001b[1;33m+\u001b[0m \u001b[0mtimedelta\u001b[0m\u001b[1;33m(\u001b[0m\u001b[0mminutes\u001b[0m \u001b[1;33m=\u001b[0m \u001b[1;36m2\u001b[0m\u001b[1;33m)\u001b[0m\u001b[1;33m\u001b[0m\u001b[0m\n\u001b[1;32m---> 37\u001b[1;33m         \u001b[0mforex_df_2\u001b[0m \u001b[1;33m=\u001b[0m \u001b[0mget_data\u001b[0m\u001b[1;33m(\u001b[0m\u001b[0mcontract\u001b[0m\u001b[1;33m,\u001b[0m \u001b[0mhistory\u001b[0m\u001b[1;33m,\u001b[0m \u001b[0mfreq\u001b[0m\u001b[1;33m,\u001b[0m \u001b[0mside\u001b[0m\u001b[1;33m,\u001b[0m \u001b[0menddate\u001b[0m\u001b[1;33m)\u001b[0m\u001b[1;33m\u001b[0m\u001b[0m\n\u001b[0m\u001b[0;32m     38\u001b[0m         \u001b[0mdf_dict\u001b[0m\u001b[1;33m[\u001b[0m\u001b[0mcurrency1\u001b[0m\u001b[1;33m+\u001b[0m\u001b[1;34m\".\"\u001b[0m\u001b[1;33m+\u001b[0m\u001b[0mcurrency2\u001b[0m\u001b[1;33m]\u001b[0m\u001b[1;33m.\u001b[0m\u001b[0mappend\u001b[0m\u001b[1;33m(\u001b[0m\u001b[0mforex_df_2\u001b[0m\u001b[1;33m)\u001b[0m\u001b[1;33m\u001b[0m\u001b[0m\n\u001b[0;32m     39\u001b[0m \u001b[1;33m\u001b[0m\u001b[0m\n",
      "\u001b[1;32m<ipython-input-3-a5eddb389190>\u001b[0m in \u001b[0;36mget_data\u001b[1;34m(contract, history, freq, side, endDate)\u001b[0m\n\u001b[0;32m      9\u001b[0m         \u001b[0mwhatToShow\u001b[0m\u001b[1;33m=\u001b[0m\u001b[0mside\u001b[0m\u001b[1;33m,\u001b[0m\u001b[1;33m\u001b[0m\u001b[0m\n\u001b[0;32m     10\u001b[0m         \u001b[0museRTH\u001b[0m\u001b[1;33m=\u001b[0m\u001b[1;32mTrue\u001b[0m\u001b[1;33m,\u001b[0m\u001b[1;33m\u001b[0m\u001b[0m\n\u001b[1;32m---> 11\u001b[1;33m         formatDate=1)\n\u001b[0m\u001b[0;32m     12\u001b[0m     \u001b[1;32mreturn\u001b[0m \u001b[0mutil\u001b[0m\u001b[1;33m.\u001b[0m\u001b[0mdf\u001b[0m\u001b[1;33m(\u001b[0m\u001b[0mbar\u001b[0m\u001b[1;33m)\u001b[0m\u001b[1;33m\u001b[0m\u001b[0m\n\u001b[0;32m     13\u001b[0m \u001b[1;33m\u001b[0m\u001b[0m\n",
      "\u001b[1;32mD:\\Anaconda3\\lib\\site-packages\\ib_insync\\ib.py\u001b[0m in \u001b[0;36mreqHistoricalData\u001b[1;34m(self, contract, endDateTime, durationStr, barSizeSetting, whatToShow, useRTH, formatDate, keepUpToDate, chartOptions, timeout)\u001b[0m\n\u001b[0;32m   1051\u001b[0m             self.reqHistoricalDataAsync(\n\u001b[0;32m   1052\u001b[0m                 \u001b[0mcontract\u001b[0m\u001b[1;33m,\u001b[0m \u001b[0mendDateTime\u001b[0m\u001b[1;33m,\u001b[0m \u001b[0mdurationStr\u001b[0m\u001b[1;33m,\u001b[0m \u001b[0mbarSizeSetting\u001b[0m\u001b[1;33m,\u001b[0m \u001b[0mwhatToShow\u001b[0m\u001b[1;33m,\u001b[0m\u001b[1;33m\u001b[0m\u001b[0m\n\u001b[1;32m-> 1053\u001b[1;33m                 useRTH, formatDate, keepUpToDate, chartOptions, timeout))\n\u001b[0m\u001b[0;32m   1054\u001b[0m \u001b[1;33m\u001b[0m\u001b[0m\n\u001b[0;32m   1055\u001b[0m     \u001b[1;32mdef\u001b[0m \u001b[0mcancelHistoricalData\u001b[0m\u001b[1;33m(\u001b[0m\u001b[0mself\u001b[0m\u001b[1;33m,\u001b[0m \u001b[0mbars\u001b[0m\u001b[1;33m:\u001b[0m \u001b[0mBarDataList\u001b[0m\u001b[1;33m)\u001b[0m\u001b[1;33m:\u001b[0m\u001b[1;33m\u001b[0m\u001b[0m\n",
      "\u001b[1;32mD:\\Anaconda3\\lib\\site-packages\\ib_insync\\ib.py\u001b[0m in \u001b[0;36m_run\u001b[1;34m(self, *awaitables)\u001b[0m\n\u001b[0;32m    308\u001b[0m \u001b[1;33m\u001b[0m\u001b[0m\n\u001b[0;32m    309\u001b[0m     \u001b[1;32mdef\u001b[0m \u001b[0m_run\u001b[0m\u001b[1;33m(\u001b[0m\u001b[0mself\u001b[0m\u001b[1;33m,\u001b[0m \u001b[1;33m*\u001b[0m\u001b[0mawaitables\u001b[0m\u001b[1;33m:\u001b[0m \u001b[0mAwaitable\u001b[0m\u001b[1;33m)\u001b[0m\u001b[1;33m:\u001b[0m\u001b[1;33m\u001b[0m\u001b[0m\n\u001b[1;32m--> 310\u001b[1;33m         \u001b[1;32mreturn\u001b[0m \u001b[0mutil\u001b[0m\u001b[1;33m.\u001b[0m\u001b[0mrun\u001b[0m\u001b[1;33m(\u001b[0m\u001b[1;33m*\u001b[0m\u001b[0mawaitables\u001b[0m\u001b[1;33m,\u001b[0m \u001b[0mtimeout\u001b[0m\u001b[1;33m=\u001b[0m\u001b[0mself\u001b[0m\u001b[1;33m.\u001b[0m\u001b[0mRequestTimeout\u001b[0m\u001b[1;33m)\u001b[0m\u001b[1;33m\u001b[0m\u001b[0m\n\u001b[0m\u001b[0;32m    311\u001b[0m \u001b[1;33m\u001b[0m\u001b[0m\n\u001b[0;32m    312\u001b[0m     \u001b[1;32mdef\u001b[0m \u001b[0mwaitOnUpdate\u001b[0m\u001b[1;33m(\u001b[0m\u001b[0mself\u001b[0m\u001b[1;33m,\u001b[0m \u001b[0mtimeout\u001b[0m\u001b[1;33m:\u001b[0m \u001b[0mfloat\u001b[0m \u001b[1;33m=\u001b[0m \u001b[1;36m0\u001b[0m\u001b[1;33m)\u001b[0m \u001b[1;33m->\u001b[0m \u001b[0mbool\u001b[0m\u001b[1;33m:\u001b[0m\u001b[1;33m\u001b[0m\u001b[0m\n",
      "\u001b[1;32mD:\\Anaconda3\\lib\\site-packages\\ib_insync\\util.py\u001b[0m in \u001b[0;36mrun\u001b[1;34m(timeout, *awaitables)\u001b[0m\n\u001b[0;32m    322\u001b[0m             \u001b[0mresult\u001b[0m \u001b[1;33m=\u001b[0m \u001b[0mloop\u001b[0m\u001b[1;33m.\u001b[0m\u001b[0mrun_until_complete\u001b[0m\u001b[1;33m(\u001b[0m\u001b[0mtask\u001b[0m\u001b[1;33m)\u001b[0m\u001b[1;33m\u001b[0m\u001b[0m\n\u001b[0;32m    323\u001b[0m         \u001b[1;32mexcept\u001b[0m \u001b[0masyncio\u001b[0m\u001b[1;33m.\u001b[0m\u001b[0mCancelledError\u001b[0m \u001b[1;32mas\u001b[0m \u001b[0me\u001b[0m\u001b[1;33m:\u001b[0m\u001b[1;33m\u001b[0m\u001b[0m\n\u001b[1;32m--> 324\u001b[1;33m             \u001b[1;32mraise\u001b[0m \u001b[0mglobalErrorEvent\u001b[0m\u001b[1;33m.\u001b[0m\u001b[0mvalue\u001b[0m\u001b[1;33m(\u001b[0m\u001b[1;33m)\u001b[0m \u001b[1;32mor\u001b[0m \u001b[0me\u001b[0m\u001b[1;33m\u001b[0m\u001b[0m\n\u001b[0m\u001b[0;32m    325\u001b[0m         \u001b[1;32mfinally\u001b[0m\u001b[1;33m:\u001b[0m\u001b[1;33m\u001b[0m\u001b[0m\n\u001b[0;32m    326\u001b[0m             \u001b[0mglobalErrorEvent\u001b[0m\u001b[1;33m.\u001b[0m\u001b[0mdisconnect\u001b[0m\u001b[1;33m(\u001b[0m\u001b[0monError\u001b[0m\u001b[1;33m)\u001b[0m\u001b[1;33m\u001b[0m\u001b[0m\n",
      "\u001b[1;31mConnectionError\u001b[0m: Socket disconnect"
     ]
    }
   ],
   "source": [
    "start = datetime.now()\n",
    "\n",
    "close_date = datetime(2015,12,30,9,30)\n",
    "\n",
    "# Initialize Dictionary to store dataframes and initialize all the contracts\n",
    "for i in range(3):\n",
    "    currency1 = forex_pairs[0][i]\n",
    "    secType = \"CASH\"\n",
    "    currency2 = forex_pairs[1][i]\n",
    "    exchange = \"IDEALPRO\"\n",
    "    \n",
    "    df_dict[currency1+\".\"+currency2] = []\n",
    "    \n",
    "    forex_contract = Contract(symbol = currency1, secType = secType, exchange = exchange, currency = currency2)\n",
    "    ib.qualifyContracts(forex_contract)\n",
    "    forex_contracts.append(forex_contract)\n",
    "    \n",
    "# Iterate over the datesace\n",
    "while close_date < datetime.now():\n",
    "    \n",
    "    if close_date.weekday() >5: \n",
    "        close_date += timedelta(days = 1)\n",
    "        continue\n",
    "    \n",
    "    for i in range(3):\n",
    "        currency1 = forex_pairs[0][i]\n",
    "        currency2 = forex_pairs[1][i]\n",
    "        contract = forex_contracts[i]\n",
    "        \n",
    "        # NYSE Opening \n",
    "        enddate = close_date + timedelta(minutes = 2)\n",
    "        forex_df_1 = get_data(contract, history, freq, side, enddate)\n",
    "        df_dict[currency1+\".\"+currency2].append(forex_df_1)\n",
    "        \n",
    "        # Other Exchange Opening\n",
    "        enddate = opening_hours[i](close_date) + timedelta(minutes = 2)\n",
    "        forex_df_2 = get_data(contract, history, freq, side, enddate)\n",
    "        df_dict[currency1+\".\"+currency2].append(forex_df_2)\n",
    "        \n",
    "    close_date += timedelta(days = 1)\n",
    "    \n",
    "end = datetime.now()\n",
    "time_taken = end-start\n",
    "print(time_taken)"
   ]
  },
  {
   "cell_type": "code",
   "execution_count": null,
   "metadata": {},
   "outputs": [],
   "source": [
    "df_list = []\n",
    "folder_name = \"Forex/\"\n",
    "for i in range(3):\n",
    "    currency1 = forex_pairs[0][i]\n",
    "    currency2 = forex_pairs[1][i]\n",
    "    df_forex = pd.concat(df_dict[currency1+\".\"+currency2], ignore_index = True,verify_integrity = True).sort_values(by = \"date\")\n",
    "    df_forex.to_csv(folder_name + currency1 + \"_\" + currency2 + \"_minute.csv\")\n",
    "    df_list.append(df_forex)\n",
    "    print(df_forex.head(10))"
   ]
  },
  {
   "cell_type": "code",
   "execution_count": null,
   "metadata": {},
   "outputs": [],
   "source": [
    "history = '180 S'\n",
    "freq = '1 min'\n",
    "side ='BID_ASK'\n",
    "\n",
    "currency1 = forex_pairs[0][0]\n",
    "secType = \"CASH\"\n",
    "currency2 = forex_pairs[1][0]\n",
    "exchange = \"IDEALPRO\"\n",
    "\n",
    "enddate = datetime(2016, 1, 5)\n",
    "\n",
    "# folder_name = \"Forex/\""
   ]
  },
  {
   "cell_type": "code",
   "execution_count": 138,
   "metadata": {},
   "outputs": [],
   "source": [
    "forex_contract = Contract(symbol = currency1, secType = secType, exchange = exchange, currency = currency2)\n",
    "ib.qualifyContracts(forex_contract)\n",
    "forex_df = get_data(forex_contract, history, freq, side, enddate)\n",
    "# print(forex_df.head(3))\n",
    "# forex_df.to_csv(folder_name + currency1 + \"_\" + currency2 + \".csv\")\n",
    "# df_dict[currency1+\".\"+currency2].concat(forex_df)"
   ]
  },
  {
   "cell_type": "code",
   "execution_count": 82,
   "metadata": {},
   "outputs": [],
   "source": [
    "test = df_dict[\"AUD.USD\"]"
   ]
  },
  {
   "cell_type": "code",
   "execution_count": 90,
   "metadata": {},
   "outputs": [
    {
     "data": {
      "text/html": [
       "<div>\n",
       "<style scoped>\n",
       "    .dataframe tbody tr th:only-of-type {\n",
       "        vertical-align: middle;\n",
       "    }\n",
       "\n",
       "    .dataframe tbody tr th {\n",
       "        vertical-align: top;\n",
       "    }\n",
       "\n",
       "    .dataframe thead th {\n",
       "        text-align: right;\n",
       "    }\n",
       "</style>\n",
       "<table border=\"1\" class=\"dataframe\">\n",
       "  <thead>\n",
       "    <tr style=\"text-align: right;\">\n",
       "      <th></th>\n",
       "      <th>date</th>\n",
       "      <th>open</th>\n",
       "      <th>high</th>\n",
       "      <th>low</th>\n",
       "      <th>close</th>\n",
       "      <th>volume</th>\n",
       "      <th>average</th>\n",
       "      <th>barCount</th>\n",
       "    </tr>\n",
       "  </thead>\n",
       "  <tbody>\n",
       "    <tr>\n",
       "      <th>1</th>\n",
       "      <td>2015-12-30 17:16:00</td>\n",
       "      <td>0.72837</td>\n",
       "      <td>0.72848</td>\n",
       "      <td>0.72829</td>\n",
       "      <td>0.72844</td>\n",
       "      <td>-1</td>\n",
       "      <td>-1.0</td>\n",
       "      <td>-1</td>\n",
       "    </tr>\n",
       "  </tbody>\n",
       "</table>\n",
       "</div>"
      ],
      "text/plain": [
       "                 date     open     high      low    close  volume  average  \\\n",
       "1 2015-12-30 17:16:00  0.72837  0.72848  0.72829  0.72844      -1     -1.0   \n",
       "\n",
       "   barCount  \n",
       "1        -1  "
      ]
     },
     "execution_count": 90,
     "metadata": {},
     "output_type": "execute_result"
    }
   ],
   "source": [
    "test[[timestamp.time() == time(17,16) for timestamp in test[\"date\"]]]"
   ]
  },
  {
   "cell_type": "code",
   "execution_count": 78,
   "metadata": {},
   "outputs": [],
   "source": [
    "time(17,16).tzinfo"
   ]
  },
  {
   "cell_type": "code",
   "execution_count": null,
   "metadata": {},
   "outputs": [],
   "source": []
  }
 ],
 "metadata": {
  "kernelspec": {
   "display_name": "Python 3",
   "language": "python",
   "name": "python3"
  },
  "language_info": {
   "codemirror_mode": {
    "name": "ipython",
    "version": 3
   },
   "file_extension": ".py",
   "mimetype": "text/x-python",
   "name": "python",
   "nbconvert_exporter": "python",
   "pygments_lexer": "ipython3",
   "version": "3.7.0"
  }
 },
 "nbformat": 4,
 "nbformat_minor": 4
}
