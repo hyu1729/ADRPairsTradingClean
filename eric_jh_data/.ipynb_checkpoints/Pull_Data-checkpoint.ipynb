{
 "cells": [
  {
   "cell_type": "code",
   "execution_count": 1,
   "metadata": {},
   "outputs": [
    {
     "data": {
      "text/plain": [
       "<IB connected to 127.0.0.1:7497 clientId=15>"
      ]
     },
     "execution_count": 1,
     "metadata": {},
     "output_type": "execute_result"
    }
   ],
   "source": [
    "from ib_insync import *\n",
    "util.startLoop()\n",
    "\n",
    "ib = IB()\n",
    "ib.connect('127.0.0.1', 7497, clientId=15)"
   ]
  },
  {
   "cell_type": "code",
   "execution_count": 11,
   "metadata": {},
   "outputs": [],
   "source": [
    "ib.disconnect()"
   ]
  },
  {
   "cell_type": "code",
   "execution_count": 2,
   "metadata": {},
   "outputs": [],
   "source": [
    "from ib_insync import *\n",
    "import numpy as np\n",
    "import pandas as pd\n",
    "from scipy import stats\n",
    "import matplotlib.pyplot as plt\n",
    "import math\n",
    "import datetime \n",
    "import statsmodels.formula.api as smf \n",
    "from datetime import date, time, datetime, timedelta\n",
    "import seaborn as sns\n",
    "import random\n",
    "from ta import add_all_ta_features\n",
    "from ta.utils import dropna\n",
    "from ta.trend import *"
   ]
  },
  {
   "cell_type": "code",
   "execution_count": 3,
   "metadata": {},
   "outputs": [],
   "source": [
    "#define a function to get IB data. endDate is the last date of the historical data \n",
    "\n",
    "def get_data(contract, history, freq, side, endDate =''):\n",
    "    bar = ib.reqHistoricalData(\n",
    "        contract,\n",
    "        endDateTime = endDate,\n",
    "        durationStr=history,\n",
    "        barSizeSetting= freq,\n",
    "        whatToShow=side,\n",
    "        useRTH=True,\n",
    "        formatDate=1)\n",
    "    return util.df(bar)\n",
    "\n",
    "history = '6 Y'\n",
    "freq = '1 day'\n",
    "side ='Trades'"
   ]
  },
  {
   "cell_type": "code",
   "execution_count": 51,
   "metadata": {},
   "outputs": [],
   "source": [
    "# Pull data from ADRs in \"Asian_ADRs.csv\"\n",
    "adr_symbol = \"ATHE\"\n",
    "adr_exchange = 'SMART'\n",
    "adr_currency = \"USD\"\n",
    "\n",
    "underlying_symbol = 'ATH'\n",
    "underlying_exchange = 'SMART'\n",
    "underlying_currency = 'AUD'\n",
    "underlying_country = \"Australia\"\n",
    "\n",
    "folder_name = underlying_country + \"/\" + adr_symbol + \"_\" + underlying_symbol + \"/\""
   ]
  },
  {
   "cell_type": "code",
   "execution_count": 52,
   "metadata": {},
   "outputs": [
    {
     "name": "stdout",
     "output_type": "stream",
     "text": [
      "         date  open  high   low  close  volume   average  barCount\n",
      "0  2016-03-24  3.40  3.40  3.01   3.05     543  3.151305       188\n",
      "1  2016-03-28  3.04  3.05  2.90   2.99     487  2.965910       149\n",
      "2  2016-03-29  3.00  3.05  2.80   2.84     316  2.902850       125\n"
     ]
    }
   ],
   "source": [
    "adr_contract = Contract(symbol = adr_symbol, secType = 'STK', exchange = adr_exchange, currency = adr_currency)\n",
    "ib.qualifyContracts(adr_contract)\n",
    "adr_df = get_data(adr_contract, history, freq, side)\n",
    "print(adr_df.head(3))\n",
    "adr_df.to_csv(folder_name + \"adr.csv\")"
   ]
  },
  {
   "cell_type": "code",
   "execution_count": 53,
   "metadata": {},
   "outputs": [
    {
     "name": "stdout",
     "output_type": "stream",
     "text": [
      "         date   open   high   low  close  volume  average  barCount\n",
      "0  2015-04-17  0.140  0.145  0.14   0.14  127888  0.14005        19\n",
      "1  2015-04-20  0.145  0.145  0.14   0.14   70030  0.14115        49\n",
      "2  2015-04-21  0.142  0.145  0.14   0.14   67136  0.14435        28\n"
     ]
    }
   ],
   "source": [
    "underlying_contract = Contract(symbol = underlying_symbol, secType = 'STK', exchange = underlying_exchange, currency = underlying_currency)\n",
    "ib.qualifyContracts(underlying_contract)\n",
    "underlying_df = get_data(underlying_contract, history, freq, side)\n",
    "print(underlying_df.head(3))\n",
    "underlying_df.to_csv(folder_name + \"underlying.csv\")"
   ]
  },
  {
   "cell_type": "code",
   "execution_count": 4,
   "metadata": {},
   "outputs": [],
   "source": [
    "def AUS_opening(date_now):\n",
    "#     aus_dst = {\n",
    "#         2021: (date(2021, 4, 4), date(2021, 10, 3)),\n",
    "#         2020: (date(2020, 4, 5), date(2020, 10, 4)),\n",
    "#         2019: (date(2019, 4, 7), date(2019, 10, 6)),\n",
    "#         2018: (date(2018, 4, 1), date(2018, 10, 7)),\n",
    "#         2017: (date(2017, 4, 2), date(2017, 10, 1)),\n",
    "#         2016: (date(2016, 4, 3), date(2016, 10, 2)),\n",
    "#         2015: (date(2015, 4, 5), date(2015, 10, 4)),\n",
    "#     }\n",
    "    \n",
    "    us_dst = {\n",
    "        2021: (datetime(2021, 3, 14), datetime(2021, 11, 7)),\n",
    "        2020: (datetime(2020, 3, 8),  datetime(2020, 11, 1)),\n",
    "        2019: (datetime(2019, 3, 10), datetime(2019, 11, 3)),\n",
    "        2018: (datetime(2018, 3, 11), datetime(2018, 11, 4)),\n",
    "        2017: (datetime(2017, 3, 12), datetime(2017, 11, 5)),\n",
    "        2016: (datetime(2016, 3, 13), datetime(2016, 11, 6)),\n",
    "        2015: (datetime(2015, 3, 9),  datetime(2015, 11, 2)),\n",
    "    }\n",
    "    \n",
    "    us_start, us_end = us_dst[date_now.year]\n",
    "    if us_start < date_now and date_now < us_end:\n",
    "        return datetime.combine(date_now,time(10,0)) - timedelta(hours = 14)\n",
    "    else:\n",
    "        return datetime.combine(date_now, time(10,0)) - timedelta(hours = 15)\n",
    "\n",
    "def HK_opening(date_now):\n",
    "    us_dst = {\n",
    "        2021: (datetime(2021, 3, 14), datetime(2021, 11, 7)),\n",
    "        2020: (datetime(2020, 3, 8),  datetime(2020, 11, 1)),\n",
    "        2019: (datetime(2019, 3, 10), datetime(2019, 11, 3)),\n",
    "        2018: (datetime(2018, 3, 11), datetime(2018, 11, 4)),\n",
    "        2017: (datetime(2017, 3, 12), datetime(2017, 11, 5)),\n",
    "        2016: (datetime(2016, 3, 13), datetime(2016, 11, 6)),\n",
    "        2015: (datetime(2015, 3, 9),  datetime(2015, 11, 2)),\n",
    "    }\n",
    "    start, end = us_dst[date_now.year]\n",
    "    if start < date_now and date_now < end:\n",
    "        return datetime.combine(date_now,time(9,30)) - timedelta(hours = 12)\n",
    "    else:\n",
    "        return datetime.combine(date_now, time(9,30)) - timedelta(hours = 13)\n",
    "    \n",
    "def JPN_opening(date_now):\n",
    "    us_dst = {\n",
    "        2021: (datetime(2021, 3, 14), datetime(2021, 11, 7)),\n",
    "        2020: (datetime(2020, 3, 8),  datetime(2020, 11, 1)),\n",
    "        2019: (datetime(2019, 3, 10), datetime(2019, 11, 3)),\n",
    "        2018: (datetime(2018, 3, 11), datetime(2018, 11, 4)),\n",
    "        2017: (datetime(2017, 3, 12), datetime(2017, 11, 5)),\n",
    "        2016: (datetime(2016, 3, 13), datetime(2016, 11, 6)),\n",
    "        2015: (datetime(2015, 3, 9),  datetime(2015, 11, 2)),\n",
    "    }\n",
    "    start, end = us_dst[date_now.year]\n",
    "    if start < date_now and date_now < end:\n",
    "        return datetime.combine(date_now,time(9,0)) - timedelta(hours = 13)\n",
    "    else:\n",
    "        return datetime.combine(date_now,time(9,0)) - timedelta(hours = 14)\n",
    "    "
   ]
  },
  {
   "cell_type": "code",
   "execution_count": 160,
   "metadata": {},
   "outputs": [
    {
     "name": "stdout",
     "output_type": "stream",
     "text": [
      "2021-04-15 20:00:00\n",
      "2021-04-15 21:30:00\n",
      "2021-04-15 20:00:00\n"
     ]
    }
   ],
   "source": [
    "date = datetime.now()\n",
    "\n",
    "print(AUS_opening(date))\n",
    "print(HK_opening(date))\n",
    "print(JPN_opening(date))"
   ]
  },
  {
   "cell_type": "code",
   "execution_count": 37,
   "metadata": {},
   "outputs": [],
   "source": [
    "forex_pairs = [[\"AUD\",  \"USD\", \"USD\"],[\"USD\", \"HKD\", \"JPY\",]]\n",
    "opening_hours = [AUS_opening, HK_opening, JPN_opening]\n",
    "df_dict = {}\n",
    "forex_contracts = []\n",
    "history = '300 S'\n",
    "freq = '1 min'\n",
    "side ='BID_ASK'"
   ]
  },
  {
   "cell_type": "code",
   "execution_count": 38,
   "metadata": {},
   "outputs": [
    {
     "name": "stdout",
     "output_type": "stream",
     "text": [
      "0:02:56.056320\n"
     ]
    }
   ],
   "source": [
    "start = datetime.now()\n",
    "\n",
    "close_date = datetime(2015,12,30,9,30)\n",
    "\n",
    "# Initialize Dictionary to store dataframes and initialize all the contracts\n",
    "for i in range(3):\n",
    "    currency1 = forex_pairs[0][i]\n",
    "    secType = \"CASH\"\n",
    "    currency2 = forex_pairs[1][i]\n",
    "    exchange = \"IDEALPRO\"\n",
    "    \n",
    "    df_dict[currency1+\".\"+currency2] = []\n",
    "    \n",
    "    forex_contract = Contract(symbol = currency1, secType = secType, exchange = exchange, currency = currency2)\n",
    "    ib.qualifyContracts(forex_contract)\n",
    "    forex_contracts.append(forex_contract)\n",
    "    \n",
    "# Iterate over the datesace\n",
    "while close_date < datetime.now():\n",
    "    \n",
    "    if close_date.weekday() >5: \n",
    "        close_date += timedelta(days = 1)\n",
    "        continue\n",
    "    \n",
    "    for i in range(3):\n",
    "        currency1 = forex_pairs[0][i]\n",
    "        currency2 = forex_pairs[1][i]\n",
    "        contract = forex_contracts[i]\n",
    "        \n",
    "        # NYSE Opening \n",
    "        enddate = close_date + timedelta(minutes = 2)\n",
    "        forex_df_1 = get_data(contract, history, freq, side, enddate)\n",
    "        df_dict[currency1+\".\"+currency2].append(forex_df_1)\n",
    "        \n",
    "        # Other Exchange Opening\n",
    "        enddate = opening_hours[i](close_date) + timedelta(minutes = 2)\n",
    "        forex_df_2 = get_data(contract, history, freq, side, enddate)\n",
    "        df_dict[currency1+\".\"+currency2].append(forex_df_2)\n",
    "        \n",
    "    close_date += timedelta(days = 1)\n",
    "    \n",
    "end = datetime.now()\n",
    "time_taken = end-start\n",
    "print(time_taken)"
   ]
  },
  {
   "cell_type": "code",
   "execution_count": 43,
   "metadata": {},
   "outputs": [
    {
     "name": "stdout",
     "output_type": "stream",
     "text": [
      "                 date     open     high      low    close  volume  average  \\\n",
      "5 2021-03-31 19:57:00  0.75938  0.75945  0.75935  0.75940      -1     -1.0   \n",
      "6 2021-03-31 19:58:00  0.75935  0.75937  0.75935  0.75937      -1     -1.0   \n",
      "7 2021-03-31 19:59:00  0.75939  0.75943  0.75935  0.75941      -1     -1.0   \n",
      "8 2021-03-31 20:00:00  0.75947  0.75955  0.75939  0.75948      -1     -1.0   \n",
      "9 2021-03-31 20:01:00  0.75941  0.75954  0.75930  0.75942      -1     -1.0   \n",
      "0 2021-04-01 09:27:00  0.75926  0.75933  0.75919  0.75928      -1     -1.0   \n",
      "1 2021-04-01 09:28:00  0.75924  0.75935  0.75918  0.75926      -1     -1.0   \n",
      "2 2021-04-01 09:29:00  0.75934  0.75945  0.75927  0.75936      -1     -1.0   \n",
      "3 2021-04-01 09:30:00  0.75944  0.75955  0.75934  0.75946      -1     -1.0   \n",
      "4 2021-04-01 09:31:00  0.75946  0.75958  0.75938  0.75947      -1     -1.0   \n",
      "\n",
      "   barCount  \n",
      "5        -1  \n",
      "6        -1  \n",
      "7        -1  \n",
      "8        -1  \n",
      "9        -1  \n",
      "0        -1  \n",
      "1        -1  \n",
      "2        -1  \n",
      "3        -1  \n",
      "4        -1  \n",
      "                 date     open     high      low    close  volume  average  \\\n",
      "5 2021-03-31 21:27:00  7.77374  7.77376  7.77371  7.77376      -1     -1.0   \n",
      "6 2021-03-31 21:28:00  7.77372  7.77375  7.77371  7.77375      -1     -1.0   \n",
      "7 2021-03-31 21:29:00  7.77372  7.77375  7.77371  7.77375      -1     -1.0   \n",
      "8 2021-03-31 21:30:00  7.77372  7.77375  7.77372  7.77375      -1     -1.0   \n",
      "9 2021-03-31 21:31:00  7.77373  7.77375  7.77372  7.77375      -1     -1.0   \n",
      "0 2021-04-01 09:27:00  7.77691  7.77714  7.77682  7.77693      -1     -1.0   \n",
      "1 2021-04-01 09:28:00  7.77682  7.77684  7.77682  7.77684      -1     -1.0   \n",
      "2 2021-04-01 09:29:00  7.77682  7.77684  7.77682  7.77684      -1     -1.0   \n",
      "3 2021-04-01 09:30:00  7.77682  7.77684  7.77681  7.77684      -1     -1.0   \n",
      "4 2021-04-01 09:31:00  7.77681  7.77684  7.77681  7.77684      -1     -1.0   \n",
      "\n",
      "   barCount  \n",
      "5        -1  \n",
      "6        -1  \n",
      "7        -1  \n",
      "8        -1  \n",
      "9        -1  \n",
      "0        -1  \n",
      "1        -1  \n",
      "2        -1  \n",
      "3        -1  \n",
      "4        -1  \n",
      "                 date     open     high      low    close  volume  average  \\\n",
      "5 2021-03-31 19:57:00  110.758  110.760  110.755  110.760      -1     -1.0   \n",
      "6 2021-03-31 19:58:00  110.763  110.773  110.758  110.764      -1     -1.0   \n",
      "7 2021-03-31 19:59:00  110.760  110.770  110.758  110.762      -1     -1.0   \n",
      "8 2021-03-31 20:00:00  110.745  110.760  110.733  110.746      -1     -1.0   \n",
      "9 2021-03-31 20:01:00  110.748  110.759  110.736  110.750      -1     -1.0   \n",
      "0 2021-04-01 09:27:00  110.674  110.683  110.665  110.675      -1     -1.0   \n",
      "1 2021-04-01 09:28:00  110.659  110.673  110.641  110.660      -1     -1.0   \n",
      "2 2021-04-01 09:29:00  110.629  110.643  110.611  110.630      -1     -1.0   \n",
      "3 2021-04-01 09:30:00  110.626  110.637  110.613  110.627      -1     -1.0   \n",
      "4 2021-04-01 09:31:00  110.603  110.616  110.585  110.604      -1     -1.0   \n",
      "\n",
      "   barCount  \n",
      "5        -1  \n",
      "6        -1  \n",
      "7        -1  \n",
      "8        -1  \n",
      "9        -1  \n",
      "0        -1  \n",
      "1        -1  \n",
      "2        -1  \n",
      "3        -1  \n",
      "4        -1  \n"
     ]
    }
   ],
   "source": [
    "df_list = []\n",
    "folder_name = \"Forex/\"\n",
    "for i in range(3):\n",
    "    currency1 = forex_pairs[0][i]\n",
    "    currency2 = forex_pairs[1][i]\n",
    "    df_forex = pd.concat(df_dict[currency1+\".\"+currency2], ignore_index = True,verify_integrity = True).sort_values(by = \"date\")\n",
    "    df_forex.to_csv(folder_name + currency1 + \"_\" + currency2 + \"_minute.csv\")\n",
    "    df_list.append(df_forex)\n",
    "    print(df_forex.head(10))"
   ]
  },
  {
   "cell_type": "code",
   "execution_count": 40,
   "metadata": {},
   "outputs": [
    {
     "name": "stdout",
     "output_type": "stream",
     "text": [
      "                 date     open     high      low    close  volume  average  \\\n",
      "5 2021-03-31 19:57:00  0.75938  0.75945  0.75935  0.75940      -1     -1.0   \n",
      "6 2021-03-31 19:58:00  0.75935  0.75937  0.75935  0.75937      -1     -1.0   \n",
      "7 2021-03-31 19:59:00  0.75939  0.75943  0.75935  0.75941      -1     -1.0   \n",
      "8 2021-03-31 20:00:00  0.75947  0.75955  0.75939  0.75948      -1     -1.0   \n",
      "9 2021-03-31 20:01:00  0.75941  0.75954  0.75930  0.75942      -1     -1.0   \n",
      "0 2021-04-01 09:27:00  0.75926  0.75933  0.75919  0.75928      -1     -1.0   \n",
      "1 2021-04-01 09:28:00  0.75924  0.75935  0.75918  0.75926      -1     -1.0   \n",
      "2 2021-04-01 09:29:00  0.75934  0.75945  0.75927  0.75936      -1     -1.0   \n",
      "3 2021-04-01 09:30:00  0.75944  0.75955  0.75934  0.75946      -1     -1.0   \n",
      "4 2021-04-01 09:31:00  0.75946  0.75958  0.75938  0.75947      -1     -1.0   \n",
      "\n",
      "   barCount  \n",
      "5        -1  \n",
      "6        -1  \n",
      "7        -1  \n",
      "8        -1  \n",
      "9        -1  \n",
      "0        -1  \n",
      "1        -1  \n",
      "2        -1  \n",
      "3        -1  \n",
      "4        -1  \n",
      "                 date     open     high      low    close  volume  average  \\\n",
      "5 2021-03-31 21:27:00  7.77374  7.77376  7.77371  7.77376      -1     -1.0   \n",
      "6 2021-03-31 21:28:00  7.77372  7.77375  7.77371  7.77375      -1     -1.0   \n",
      "7 2021-03-31 21:29:00  7.77372  7.77375  7.77371  7.77375      -1     -1.0   \n",
      "8 2021-03-31 21:30:00  7.77372  7.77375  7.77372  7.77375      -1     -1.0   \n",
      "9 2021-03-31 21:31:00  7.77373  7.77375  7.77372  7.77375      -1     -1.0   \n",
      "0 2021-04-01 09:27:00  7.77691  7.77714  7.77682  7.77693      -1     -1.0   \n",
      "1 2021-04-01 09:28:00  7.77682  7.77684  7.77682  7.77684      -1     -1.0   \n",
      "2 2021-04-01 09:29:00  7.77682  7.77684  7.77682  7.77684      -1     -1.0   \n",
      "3 2021-04-01 09:30:00  7.77682  7.77684  7.77681  7.77684      -1     -1.0   \n",
      "4 2021-04-01 09:31:00  7.77681  7.77684  7.77681  7.77684      -1     -1.0   \n",
      "\n",
      "   barCount  \n",
      "5        -1  \n",
      "6        -1  \n",
      "7        -1  \n",
      "8        -1  \n",
      "9        -1  \n",
      "0        -1  \n",
      "1        -1  \n",
      "2        -1  \n",
      "3        -1  \n",
      "4        -1  \n",
      "                 date     open     high      low    close  volume  average  \\\n",
      "5 2021-03-31 19:57:00  110.758  110.760  110.755  110.760      -1     -1.0   \n",
      "6 2021-03-31 19:58:00  110.763  110.773  110.758  110.764      -1     -1.0   \n",
      "7 2021-03-31 19:59:00  110.760  110.770  110.758  110.762      -1     -1.0   \n",
      "8 2021-03-31 20:00:00  110.745  110.760  110.733  110.746      -1     -1.0   \n",
      "9 2021-03-31 20:01:00  110.748  110.759  110.736  110.750      -1     -1.0   \n",
      "0 2021-04-01 09:27:00  110.674  110.683  110.665  110.675      -1     -1.0   \n",
      "1 2021-04-01 09:28:00  110.659  110.673  110.641  110.660      -1     -1.0   \n",
      "2 2021-04-01 09:29:00  110.629  110.643  110.611  110.630      -1     -1.0   \n",
      "3 2021-04-01 09:30:00  110.626  110.637  110.613  110.627      -1     -1.0   \n",
      "4 2021-04-01 09:31:00  110.603  110.616  110.585  110.604      -1     -1.0   \n",
      "\n",
      "   barCount  \n",
      "5        -1  \n",
      "6        -1  \n",
      "7        -1  \n",
      "8        -1  \n",
      "9        -1  \n",
      "0        -1  \n",
      "1        -1  \n",
      "2        -1  \n",
      "3        -1  \n",
      "4        -1  \n"
     ]
    }
   ],
   "source": []
  },
  {
   "cell_type": "code",
   "execution_count": 137,
   "metadata": {},
   "outputs": [],
   "source": [
    "history = '180 S'\n",
    "freq = '1 min'\n",
    "side ='BID_ASK'\n",
    "\n",
    "currency1 = forex_pairs[0][0]\n",
    "secType = \"CASH\"\n",
    "currency2 = forex_pairs[1][0]\n",
    "exchange = \"IDEALPRO\"\n",
    "\n",
    "enddate = datetime(2016, 1, 5)\n",
    "\n",
    "# folder_name = \"Forex/\""
   ]
  },
  {
   "cell_type": "code",
   "execution_count": 138,
   "metadata": {},
   "outputs": [],
   "source": [
    "forex_contract = Contract(symbol = currency1, secType = secType, exchange = exchange, currency = currency2)\n",
    "ib.qualifyContracts(forex_contract)\n",
    "forex_df = get_data(forex_contract, history, freq, side, enddate)\n",
    "# print(forex_df.head(3))\n",
    "# forex_df.to_csv(folder_name + currency1 + \"_\" + currency2 + \".csv\")\n",
    "# df_dict[currency1+\".\"+currency2].concat(forex_df)"
   ]
  },
  {
   "cell_type": "code",
   "execution_count": 82,
   "metadata": {},
   "outputs": [],
   "source": [
    "test = df_dict[\"AUD.USD\"]"
   ]
  },
  {
   "cell_type": "code",
   "execution_count": 90,
   "metadata": {},
   "outputs": [
    {
     "data": {
      "text/html": [
       "<div>\n",
       "<style scoped>\n",
       "    .dataframe tbody tr th:only-of-type {\n",
       "        vertical-align: middle;\n",
       "    }\n",
       "\n",
       "    .dataframe tbody tr th {\n",
       "        vertical-align: top;\n",
       "    }\n",
       "\n",
       "    .dataframe thead th {\n",
       "        text-align: right;\n",
       "    }\n",
       "</style>\n",
       "<table border=\"1\" class=\"dataframe\">\n",
       "  <thead>\n",
       "    <tr style=\"text-align: right;\">\n",
       "      <th></th>\n",
       "      <th>date</th>\n",
       "      <th>open</th>\n",
       "      <th>high</th>\n",
       "      <th>low</th>\n",
       "      <th>close</th>\n",
       "      <th>volume</th>\n",
       "      <th>average</th>\n",
       "      <th>barCount</th>\n",
       "    </tr>\n",
       "  </thead>\n",
       "  <tbody>\n",
       "    <tr>\n",
       "      <th>1</th>\n",
       "      <td>2015-12-30 17:16:00</td>\n",
       "      <td>0.72837</td>\n",
       "      <td>0.72848</td>\n",
       "      <td>0.72829</td>\n",
       "      <td>0.72844</td>\n",
       "      <td>-1</td>\n",
       "      <td>-1.0</td>\n",
       "      <td>-1</td>\n",
       "    </tr>\n",
       "  </tbody>\n",
       "</table>\n",
       "</div>"
      ],
      "text/plain": [
       "                 date     open     high      low    close  volume  average  \\\n",
       "1 2015-12-30 17:16:00  0.72837  0.72848  0.72829  0.72844      -1     -1.0   \n",
       "\n",
       "   barCount  \n",
       "1        -1  "
      ]
     },
     "execution_count": 90,
     "metadata": {},
     "output_type": "execute_result"
    }
   ],
   "source": [
    "test[[timestamp.time() == time(17,16) for timestamp in test[\"date\"]]]"
   ]
  },
  {
   "cell_type": "code",
   "execution_count": 78,
   "metadata": {},
   "outputs": [],
   "source": [
    "time(17,16).tzinfo"
   ]
  },
  {
   "cell_type": "code",
   "execution_count": null,
   "metadata": {},
   "outputs": [],
   "source": []
  }
 ],
 "metadata": {
  "kernelspec": {
   "display_name": "Python 3",
   "language": "python",
   "name": "python3"
  },
  "language_info": {
   "codemirror_mode": {
    "name": "ipython",
    "version": 3
   },
   "file_extension": ".py",
   "mimetype": "text/x-python",
   "name": "python",
   "nbconvert_exporter": "python",
   "pygments_lexer": "ipython3",
   "version": "3.7.0"
  }
 },
 "nbformat": 4,
 "nbformat_minor": 4
}
