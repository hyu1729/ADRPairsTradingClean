{
 "cells": [
  {
   "cell_type": "code",
   "execution_count": 1,
   "metadata": {},
   "outputs": [
    {
     "data": {
      "text/plain": [
       "<IB connected to 127.0.0.1:7497 clientId=15>"
      ]
     },
     "execution_count": 1,
     "metadata": {},
     "output_type": "execute_result"
    }
   ],
   "source": [
    "from ib_insync import *\n",
    "util.startLoop()\n",
    "\n",
    "ib = IB()\n",
    "ib.connect('127.0.0.1', 7497, clientId=15)"
   ]
  },
  {
   "cell_type": "code",
   "execution_count": 2,
   "metadata": {},
   "outputs": [],
   "source": [
    "from ib_insync import *\n",
    "import numpy as np\n",
    "import pandas as pd\n",
    "from scipy import stats\n",
    "import matplotlib.pyplot as plt\n",
    "import math\n",
    "import datetime \n",
    "import statsmodels.formula.api as smf \n",
    "from datetime import date, time, datetime, timedelta\n",
    "import seaborn as sns\n",
    "import random\n",
    "from ta import add_all_ta_features\n",
    "from ta.utils import dropna\n",
    "from ta.trend import *"
   ]
  },
  {
   "cell_type": "code",
   "execution_count": 3,
   "metadata": {},
   "outputs": [],
   "source": [
    "#define a function to get IB data. endDate is the last date of the historical data \n",
    "\n",
    "def get_data(contract, history, freq, side, endDate =''):\n",
    "    bar = ib.reqHistoricalData(\n",
    "        contract,\n",
    "        endDateTime = endDate,\n",
    "        durationStr=history,\n",
    "        barSizeSetting= freq,\n",
    "        whatToShow=side,\n",
    "        useRTH=True,\n",
    "        formatDate=1)\n",
    "    return util.df(bar)\n",
    "\n",
    "history = '6 Y'\n",
    "freq = '1 day'\n",
    "side ='Trades'"
   ]
  },
  {
   "cell_type": "code",
   "execution_count": 59,
   "metadata": {},
   "outputs": [],
   "source": [
    "# Pull data from ADRs in \"Asian_ADRs.csv\"\n",
    "adr_symbol = \"IMMP\"\n",
    "adr_exchange = 'SMART'\n",
    "adr_currency = \"USD\"\n",
    "\n",
    "underlying_symbol = 'IMM'\n",
    "underlying_exchange = 'SMART'\n",
    "underlying_currency = 'AUD'\n",
    "underlying_country = \"Australia\"\n",
    "\n",
    "folder_name = underlying_country + \"/\" + adr_symbol + \"_\" + underlying_symbol + \"/\""
   ]
  },
  {
   "cell_type": "code",
   "execution_count": 40,
   "metadata": {},
   "outputs": [
    {
     "name": "stdout",
     "output_type": "stream",
     "text": [
      "         date   open   high    low  close  volume  average  barCount\n",
      "0  2015-04-13  50.86  50.86  48.36  48.88    4230  49.4060      2563\n",
      "1  2015-04-14  47.16  47.74  46.50  46.91    2403  47.0195      1430\n",
      "2  2015-04-15  46.91  47.18  46.43  46.59    1146  46.8090       854\n"
     ]
    }
   ],
   "source": [
    "adr_contract = Contract(symbol = adr_symbol, secType = 'STK', exchange = adr_exchange, currency = adr_currency)\n",
    "ib.qualifyContracts(adr_contract)\n",
    "adr_df = get_data(adr_contract, history, freq, side)\n",
    "print(adr_df.head(3))\n",
    "adr_df.to_csv(folder_name + \"adr.csv\")"
   ]
  },
  {
   "cell_type": "code",
   "execution_count": 60,
   "metadata": {},
   "outputs": [
    {
     "name": "stderr",
     "output_type": "stream",
     "text": [
      "Error 162, reqId 63: Historical Market Data Service error message:No market data permissions for ASX STK, contract: Contract(secType='STK', conId=298064707, symbol='IMM', exchange='SMART', primaryExchange='ASX', currency='AUD', localSymbol='IMM', tradingClass='IMM')\n"
     ]
    },
    {
     "ename": "AttributeError",
     "evalue": "'NoneType' object has no attribute 'head'",
     "output_type": "error",
     "traceback": [
      "\u001b[0;31m---------------------------------------------------------------------------\u001b[0m",
      "\u001b[0;31mAttributeError\u001b[0m                            Traceback (most recent call last)",
      "\u001b[0;32m<ipython-input-60-5f8cc967d9f3>\u001b[0m in \u001b[0;36m<module>\u001b[0;34m\u001b[0m\n\u001b[1;32m      2\u001b[0m \u001b[0mib\u001b[0m\u001b[0;34m.\u001b[0m\u001b[0mqualifyContracts\u001b[0m\u001b[0;34m(\u001b[0m\u001b[0munderlying_contract\u001b[0m\u001b[0;34m)\u001b[0m\u001b[0;34m\u001b[0m\u001b[0;34m\u001b[0m\u001b[0m\n\u001b[1;32m      3\u001b[0m \u001b[0munderlying_df\u001b[0m \u001b[0;34m=\u001b[0m \u001b[0mget_data\u001b[0m\u001b[0;34m(\u001b[0m\u001b[0munderlying_contract\u001b[0m\u001b[0;34m,\u001b[0m \u001b[0mhistory\u001b[0m\u001b[0;34m,\u001b[0m \u001b[0mfreq\u001b[0m\u001b[0;34m,\u001b[0m \u001b[0mside\u001b[0m\u001b[0;34m)\u001b[0m\u001b[0;34m\u001b[0m\u001b[0;34m\u001b[0m\u001b[0m\n\u001b[0;32m----> 4\u001b[0;31m \u001b[0mprint\u001b[0m\u001b[0;34m(\u001b[0m\u001b[0munderlying_df\u001b[0m\u001b[0;34m.\u001b[0m\u001b[0mhead\u001b[0m\u001b[0;34m(\u001b[0m\u001b[0;36m3\u001b[0m\u001b[0;34m)\u001b[0m\u001b[0;34m)\u001b[0m\u001b[0;34m\u001b[0m\u001b[0;34m\u001b[0m\u001b[0m\n\u001b[0m\u001b[1;32m      5\u001b[0m \u001b[0munderlying_df\u001b[0m\u001b[0;34m.\u001b[0m\u001b[0mto_csv\u001b[0m\u001b[0;34m(\u001b[0m\u001b[0mfolder_name\u001b[0m \u001b[0;34m+\u001b[0m \u001b[0;34m\"underlying.csv\"\u001b[0m\u001b[0;34m)\u001b[0m\u001b[0;34m\u001b[0m\u001b[0;34m\u001b[0m\u001b[0m\n",
      "\u001b[0;31mAttributeError\u001b[0m: 'NoneType' object has no attribute 'head'"
     ]
    }
   ],
   "source": [
    "underlying_contract = Contract(symbol = underlying_symbol, secType = 'STK', exchange = underlying_exchange, currency = underlying_currency)\n",
    "ib.qualifyContracts(underlying_contract)\n",
    "underlying_df = get_data(underlying_contract, history, freq, side)\n",
    "print(underlying_df.head(3))\n",
    "underlying_df.to_csv(folder_name + \"underlying.csv\")"
   ]
  },
  {
   "cell_type": "code",
   "execution_count": 1,
   "metadata": {},
   "outputs": [],
   "source": [
    "# No underlying data for:\n",
    "# VEDL-VEDL\n",
    "# PLL-PLL\n",
    "# IMMP-IMM\n",
    "# KZIA-KZA\n",
    "# ATHE-ATH"
   ]
  },
  {
   "cell_type": "code",
   "execution_count": 61,
   "metadata": {},
   "outputs": [
    {
     "data": {
      "text/plain": [
       "[Contract(secType='STK', conId=298064707, symbol='IMM', exchange='SMART', primaryExchange='ASX', currency='AUD', localSymbol='IMM', tradingClass='IMM')]"
      ]
     },
     "execution_count": 61,
     "metadata": {},
     "output_type": "execute_result"
    }
   ],
   "source": [
    "underlying_contract = Contract(symbol = underlying_symbol, secType = 'STK', exchange = underlying_exchange, currency = underlying_currency)\n",
    "ib.qualifyContracts(underlying_contract)"
   ]
  },
  {
   "cell_type": "code",
   "execution_count": 62,
   "metadata": {},
   "outputs": [
    {
     "name": "stderr",
     "output_type": "stream",
     "text": [
      "Error 162, reqId 65: Historical Market Data Service error message:No market data permissions for ASX STK, contract: Contract(secType='STK', conId=298064707, symbol='IMM', exchange='SMART', primaryExchange='ASX', currency='AUD', localSymbol='IMM', tradingClass='IMM')\n"
     ]
    },
    {
     "ename": "AttributeError",
     "evalue": "'NoneType' object has no attribute 'head'",
     "output_type": "error",
     "traceback": [
      "\u001b[0;31m---------------------------------------------------------------------------\u001b[0m",
      "\u001b[0;31mAttributeError\u001b[0m                            Traceback (most recent call last)",
      "\u001b[0;32m<ipython-input-62-b5f829a206ae>\u001b[0m in \u001b[0;36m<module>\u001b[0;34m\u001b[0m\n\u001b[1;32m      1\u001b[0m \u001b[0munderlying_df\u001b[0m \u001b[0;34m=\u001b[0m \u001b[0mget_data\u001b[0m\u001b[0;34m(\u001b[0m\u001b[0munderlying_contract\u001b[0m\u001b[0;34m,\u001b[0m \u001b[0mhistory\u001b[0m\u001b[0;34m,\u001b[0m \u001b[0mfreq\u001b[0m\u001b[0;34m,\u001b[0m \u001b[0mside\u001b[0m\u001b[0;34m)\u001b[0m\u001b[0;34m\u001b[0m\u001b[0;34m\u001b[0m\u001b[0m\n\u001b[0;32m----> 2\u001b[0;31m \u001b[0mprint\u001b[0m\u001b[0;34m(\u001b[0m\u001b[0munderlying_df\u001b[0m\u001b[0;34m.\u001b[0m\u001b[0mhead\u001b[0m\u001b[0;34m(\u001b[0m\u001b[0;36m3\u001b[0m\u001b[0;34m)\u001b[0m\u001b[0;34m)\u001b[0m\u001b[0;34m\u001b[0m\u001b[0;34m\u001b[0m\u001b[0m\n\u001b[0m\u001b[1;32m      3\u001b[0m \u001b[0;31m#underlying_df.to_csv(folder_name + \"underlying.csv\")\u001b[0m\u001b[0;34m\u001b[0m\u001b[0;34m\u001b[0m\u001b[0;34m\u001b[0m\u001b[0m\n",
      "\u001b[0;31mAttributeError\u001b[0m: 'NoneType' object has no attribute 'head'"
     ]
    }
   ],
   "source": [
    "underlying_df = get_data(underlying_contract, history, freq, side)\n",
    "print(underlying_df.head(3))\n",
    "#underlying_df.to_csv(folder_name + \"underlying.csv\")"
   ]
  },
  {
   "cell_type": "code",
   "execution_count": null,
   "metadata": {},
   "outputs": [],
   "source": []
  }
 ],
 "metadata": {
  "kernelspec": {
   "display_name": "Python 3",
   "language": "python",
   "name": "python3"
  },
  "language_info": {
   "codemirror_mode": {
    "name": "ipython",
    "version": 3
   },
   "file_extension": ".py",
   "mimetype": "text/x-python",
   "name": "python",
   "nbconvert_exporter": "python",
   "pygments_lexer": "ipython3",
   "version": "3.7.6"
  }
 },
 "nbformat": 4,
 "nbformat_minor": 4
}
