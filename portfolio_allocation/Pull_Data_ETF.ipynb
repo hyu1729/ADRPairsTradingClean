{
 "cells": [
  {
   "cell_type": "code",
   "execution_count": 1,
   "metadata": {},
   "outputs": [
    {
     "data": {
      "text/plain": [
       "<IB connected to 127.0.0.1:7497 clientId=15>"
      ]
     },
     "execution_count": 1,
     "metadata": {},
     "output_type": "execute_result"
    }
   ],
   "source": [
    "from ib_insync import *\n",
    "util.startLoop()\n",
    "\n",
    "ib = IB()\n",
    "ib.connect('127.0.0.1', 7497, clientId=15)"
   ]
  },
  {
   "cell_type": "code",
   "execution_count": 2,
   "metadata": {},
   "outputs": [],
   "source": [
    "# from ib_insync import *\n",
    "import numpy as np\n",
    "import pandas as pd\n",
    "from scipy import stats\n",
    "import matplotlib.pyplot as plt\n",
    "import math\n",
    "import datetime \n",
    "import statsmodels.formula.api as smf \n",
    "from datetime import date, time, datetime, timedelta\n",
    "import seaborn as sns\n",
    "import random\n",
    "from ta import add_all_ta_features\n",
    "from ta.utils import dropna\n",
    "from ta.trend import *"
   ]
  },
  {
   "cell_type": "code",
   "execution_count": 3,
   "metadata": {},
   "outputs": [],
   "source": [
    "def get_data(contract, history, freq, side, endDate =''):\n",
    "    bar = ib.reqHistoricalData(\n",
    "        contract,\n",
    "        endDateTime = endDate,\n",
    "        durationStr=history,\n",
    "        barSizeSetting= freq,\n",
    "        whatToShow=side,\n",
    "        useRTH=True,\n",
    "        formatDate=1)\n",
    "    return util.df(bar)\n",
    "\n",
    "history = '6 Y'\n",
    "freq = '1 day'\n",
    "side ='Trades'"
   ]
  },
  {
   "cell_type": "markdown",
   "metadata": {},
   "source": [
    "### Pull Country Data\n",
    "\n",
    "- China: EWH\n",
    "- Australia: EWA\n",
    "- Japan: EWJ"
   ]
  },
  {
   "cell_type": "code",
   "execution_count": 4,
   "metadata": {},
   "outputs": [
    {
     "name": "stdout",
     "output_type": "stream",
     "text": [
      "         date   open   high    low  close  volume  average  barCount\n",
      "0  2015-04-22  53.04  53.16  52.88  53.08   64925   53.032     23394\n",
      "1  2015-04-23  52.76  53.08  52.72  53.04   79534   52.968     26777\n",
      "2  2015-04-24  53.20  53.24  53.12  53.24   49896   53.182     12885\n"
     ]
    }
   ],
   "source": [
    "contract = Contract(symbol = 'EWJ', secType = 'STK', exchange = \"SMART\", currency = \"USD\")\n",
    "ib.qualifyContracts(contract)\n",
    "df = get_data(contract, history, freq, side)\n",
    "print(df.head(3))\n",
    "df.to_csv(\"Japan.csv\")"
   ]
  },
  {
   "cell_type": "code",
   "execution_count": 5,
   "metadata": {},
   "outputs": [
    {
     "name": "stdout",
     "output_type": "stream",
     "text": [
      "         date   open   high    low  close  volume  average  barCount\n",
      "0  2015-04-23  23.64  23.76  23.63  23.72   21810  23.6990      6479\n",
      "1  2015-04-24  23.91  23.96  23.86  23.92   22301  23.9135      5377\n",
      "2  2015-04-27  24.06  24.08  23.96  23.98   24138  24.0120      6319\n"
     ]
    }
   ],
   "source": [
    "contract = Contract(symbol = 'EWH', secType = 'STK', exchange = \"SMART\", currency = \"USD\")\n",
    "ib.qualifyContracts(contract)\n",
    "df = get_data(contract, history, freq, side)\n",
    "print(df.head(3))\n",
    "df.to_csv(\"China.csv\")"
   ]
  },
  {
   "cell_type": "code",
   "execution_count": 6,
   "metadata": {},
   "outputs": [
    {
     "name": "stdout",
     "output_type": "stream",
     "text": [
      "         date   open   high    low  close  volume  average  barCount\n",
      "0  2015-04-23  23.09  23.42  23.08  23.40   13045  23.3250      4325\n",
      "1  2015-04-24  23.81  23.96  23.78  23.93   15037  23.8915      4752\n",
      "2  2015-04-27  24.02  24.22  24.02  24.05   11108  24.1060      3658\n"
     ]
    }
   ],
   "source": [
    "contract = Contract(symbol = 'EWA', secType = 'STK', exchange = \"SMART\", currency = \"USD\")\n",
    "ib.qualifyContracts(contract)\n",
    "df = get_data(contract, history, freq, side)\n",
    "print(df.head(3))\n",
    "df.to_csv(\"Australia.csv\")"
   ]
  },
  {
   "cell_type": "markdown",
   "metadata": {},
   "source": [
    "### Pull Sector Data\n",
    "\n",
    "- Global Healthcare: IXJ\n",
    "- Global Financials: IXG\n",
    "- Global Materials: MXI\n",
    "- Global Utilities: JXI\n",
    "- Global Energy: IXC\n",
    "- Global Industrials: EXI\n",
    "- Global Information Technology: IXN\n",
    "- Global Consumer Discretionary: RXI"
   ]
  },
  {
   "cell_type": "code",
   "execution_count": 7,
   "metadata": {},
   "outputs": [
    {
     "name": "stdout",
     "output_type": "stream",
     "text": [
      "         date    open    high     low   close  volume   average  barCount\n",
      "0  2015-04-23  55.220  55.705  55.075  55.605    1192  55.42475       282\n",
      "1  2015-04-24  55.495  55.605  55.230  55.480     604  55.51900       142\n",
      "2  2015-04-27  55.645  55.845  54.790  54.880    7150  55.08125      1236\n"
     ]
    }
   ],
   "source": [
    "contract = Contract(symbol = 'IXJ', secType = 'STK', exchange = \"SMART\", currency = \"USD\")\n",
    "ib.qualifyContracts(contract)\n",
    "df = get_data(contract, history, freq, side)\n",
    "print(df.head(3))\n",
    "df.to_csv(\"HC.csv\")"
   ]
  },
  {
   "cell_type": "code",
   "execution_count": 8,
   "metadata": {},
   "outputs": [
    {
     "name": "stdout",
     "output_type": "stream",
     "text": [
      "         date   open   high    low  close  volume  average  barCount\n",
      "0  2015-04-23  58.47  58.99  58.37  58.91     207   58.722       118\n",
      "1  2015-04-24  58.99  59.13  58.86  59.06     247   59.007       163\n",
      "2  2015-04-27  59.21  59.48  59.09  59.25    3393   59.320      1432\n"
     ]
    }
   ],
   "source": [
    "contract = Contract(symbol = 'IXG', secType = 'STK', exchange = \"SMART\", currency = \"USD\")\n",
    "ib.qualifyContracts(contract)\n",
    "df = get_data(contract, history, freq, side)\n",
    "print(df.head(3))\n",
    "df.to_csv(\"Fin.csv\")"
   ]
  },
  {
   "cell_type": "code",
   "execution_count": 9,
   "metadata": {},
   "outputs": [
    {
     "name": "stdout",
     "output_type": "stream",
     "text": [
      "         date   open   high    low  close  volume  average  barCount\n",
      "0  2015-04-23  58.38  59.11  58.38  58.95     928   59.027       126\n",
      "1  2015-04-24  59.46  59.71  59.40  59.66     715   59.540       233\n",
      "2  2015-04-27  59.95  60.48  59.94  60.11     112   60.232        45\n"
     ]
    }
   ],
   "source": [
    "contract = Contract(symbol = 'MXI', secType = 'STK', exchange = \"SMART\", currency = \"USD\")\n",
    "ib.qualifyContracts(contract)\n",
    "df = get_data(contract, history, freq, side)\n",
    "print(df.head(3))\n",
    "df.to_csv(\"Mat.csv\")"
   ]
  },
  {
   "cell_type": "code",
   "execution_count": 10,
   "metadata": {},
   "outputs": [
    {
     "name": "stdout",
     "output_type": "stream",
     "text": [
      "         date   open   high    low  close  volume  average  barCount\n",
      "0  2015-04-23  47.34  47.64  47.00  47.46     126  47.4035        62\n",
      "1  2015-04-24  47.88  48.26  47.87  48.14     126  48.1060        46\n",
      "2  2015-04-27  48.18  48.18  47.79  47.81      80  47.9725        44\n"
     ]
    }
   ],
   "source": [
    "contract = Contract(symbol = 'JXI', secType = 'STK', exchange = \"SMART\", currency = \"USD\")\n",
    "ib.qualifyContracts(contract)\n",
    "df = get_data(contract, history, freq, side)\n",
    "print(df.head(3))\n",
    "df.to_csv(\"Util.csv\")"
   ]
  },
  {
   "cell_type": "code",
   "execution_count": 11,
   "metadata": {},
   "outputs": [
    {
     "name": "stdout",
     "output_type": "stream",
     "text": [
      "         date   open   high    low  close  volume  average  barCount\n",
      "0  2015-04-23  38.50  39.00  38.50  38.79    9376   38.771      1093\n",
      "1  2015-04-24  38.92  38.92  38.50  38.63    1689   38.641       569\n",
      "2  2015-04-27  38.77  38.99  38.72  38.79    1394   38.828       454\n"
     ]
    }
   ],
   "source": [
    "contract = Contract(symbol = 'IXC', secType = 'STK', exchange = \"SMART\", currency = \"USD\")\n",
    "ib.qualifyContracts(contract)\n",
    "df = get_data(contract, history, freq, side)\n",
    "print(df.head(3))\n",
    "df.to_csv(\"NRG.csv\")"
   ]
  },
  {
   "cell_type": "code",
   "execution_count": 12,
   "metadata": {},
   "outputs": [
    {
     "name": "stdout",
     "output_type": "stream",
     "text": [
      "         date   open   high    low  close  volume  average  barCount\n",
      "0  2015-04-23  73.54  74.14  73.30  74.05      61  74.0160        29\n",
      "1  2015-04-24  73.78  73.99  73.68  73.78     357  73.8270       130\n",
      "2  2015-04-27  74.34  74.44  73.99  74.02     171  74.3365        39\n"
     ]
    }
   ],
   "source": [
    "contract = Contract(symbol = 'EXI', secType = 'STK', exchange = \"SMART\", currency = \"USD\")\n",
    "ib.qualifyContracts(contract)\n",
    "df = get_data(contract, history, freq, side)\n",
    "print(df.head(3))\n",
    "df.to_csv(\"Ind.csv\")"
   ]
  },
  {
   "cell_type": "code",
   "execution_count": 13,
   "metadata": {},
   "outputs": [
    {
     "name": "stdout",
     "output_type": "stream",
     "text": [
      "         date    open    high     low   close  volume   average  barCount\n",
      "0  2015-04-23   99.14  100.04   99.12   99.73     371   99.3715       121\n",
      "1  2015-04-24  100.58  100.61  100.21  100.58     339  100.4515       129\n",
      "2  2015-04-27  101.07  101.26  100.65  100.85     353  101.1275       106\n"
     ]
    }
   ],
   "source": [
    "contract = Contract(symbol = 'IXN', secType = 'STK', exchange = \"SMART\", currency = \"USD\")\n",
    "ib.qualifyContracts(contract)\n",
    "df = get_data(contract, history, freq, side)\n",
    "print(df.head(3))\n",
    "df.to_csv(\"IT.csv\")"
   ]
  },
  {
   "cell_type": "code",
   "execution_count": 14,
   "metadata": {},
   "outputs": [
    {
     "name": "stdout",
     "output_type": "stream",
     "text": [
      "         date   open   high    low  close  volume  average  barCount\n",
      "0  2015-04-23  92.10  92.79  91.88  92.76     226  92.2430       132\n",
      "1  2015-04-24  93.42  93.66  93.22  93.58     271  93.3675       138\n",
      "2  2015-04-27  93.86  94.07  93.36  93.36     328  93.7570       127\n"
     ]
    }
   ],
   "source": [
    "contract = Contract(symbol = 'RXI', secType = 'STK', exchange = \"SMART\", currency = \"USD\")\n",
    "ib.qualifyContracts(contract)\n",
    "df = get_data(contract, history, freq, side)\n",
    "print(df.head(3))\n",
    "df.to_csv(\"CD.csv\")"
   ]
  },
  {
   "cell_type": "code",
   "execution_count": null,
   "metadata": {},
   "outputs": [],
   "source": []
  }
 ],
 "metadata": {
  "kernelspec": {
   "display_name": "Python 3",
   "language": "python",
   "name": "python3"
  },
  "language_info": {
   "codemirror_mode": {
    "name": "ipython",
    "version": 3
   },
   "file_extension": ".py",
   "mimetype": "text/x-python",
   "name": "python",
   "nbconvert_exporter": "python",
   "pygments_lexer": "ipython3",
   "version": "3.7.6"
  }
 },
 "nbformat": 4,
 "nbformat_minor": 4
}
